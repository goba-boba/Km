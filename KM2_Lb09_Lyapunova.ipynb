{
 "cells": [
  {
   "cell_type": "markdown",
   "id": "94edecea-09f3-4298-95e3-a81be61a4905",
   "metadata": {},
   "source": [
    "# Лабораторная работа 9"
   ]
  },
  {
   "cell_type": "markdown",
   "id": "08404090-46c2-49b3-abf5-38f07bc8ec7b",
   "metadata": {},
   "source": [
    "## Создание текстового файла большого объема с помощью генераторной функции"
   ]
  },
  {
   "cell_type": "markdown",
   "id": "af3c207a-1d31-4320-8e20-61eb0cb04c32",
   "metadata": {},
   "source": [
    "*Ляпунова Арина 01.06.2025*"
   ]
  },
  {
   "cell_type": "code",
   "execution_count": 1,
   "id": "e84aa980-db9a-4772-bb08-6e1d4c9870f3",
   "metadata": {},
   "outputs": [],
   "source": [
    "from random import randint"
   ]
  },
  {
   "cell_type": "code",
   "execution_count": 2,
   "id": "dc1c631a-1630-454e-9737-ff6c6d9c7fc8",
   "metadata": {},
   "outputs": [
    {
     "data": {
      "text/plain": [
       "'Код символа: 104, символ: h'"
      ]
     },
     "execution_count": 2,
     "metadata": {},
     "output_type": "execute_result"
    }
   ],
   "source": [
    "latin_code = (ord('a'), ord('z'))\n",
    "f'Код символа: {(c:=randint(*latin_code))}, символ: {chr(c)}'"
   ]
  },
  {
   "cell_type": "code",
   "execution_count": 3,
   "id": "317fa11d-c8bb-4c3c-ab6d-171cff588c08",
   "metadata": {},
   "outputs": [],
   "source": [
    "from time import process_time"
   ]
  },
  {
   "cell_type": "code",
   "execution_count": 4,
   "id": "d037abbd-161a-4e9a-9fe5-cd3fd41f3377",
   "metadata": {},
   "outputs": [
    {
     "name": "stdout",
     "output_type": "stream",
     "text": [
      "0.328125 секунд\n"
     ]
    }
   ],
   "source": [
    "start = process_time()\n",
    "[x**2 for x in range(1_000_000)]\n",
    "end = process_time()\n",
    "print(f'{end - start} секунд')"
   ]
  },
  {
   "cell_type": "code",
   "execution_count": 5,
   "id": "b65352fb-4fc9-43f2-90d6-910dd836384a",
   "metadata": {},
   "outputs": [],
   "source": [
    "file_name = 'test.txt'\n",
    "f = open(file_name, 'w')"
   ]
  },
  {
   "cell_type": "code",
   "execution_count": 6,
   "id": "2a166063-de6c-4b8d-8b7e-4f04ad6a0fb3",
   "metadata": {},
   "outputs": [
    {
     "data": {
      "text/plain": [
       "['t\\n', 'e\\n', 's\\n', 't\\n']"
      ]
     },
     "execution_count": 6,
     "metadata": {},
     "output_type": "execute_result"
    }
   ],
   "source": [
    "lines_list = [f'{x}\\n' for x in 'test']\n",
    "lines_list"
   ]
  },
  {
   "cell_type": "code",
   "execution_count": 7,
   "id": "eeb1885d-b772-4ef6-be73-f14f55f25759",
   "metadata": {},
   "outputs": [],
   "source": [
    "f.writelines(lines_list)"
   ]
  },
  {
   "cell_type": "code",
   "execution_count": 8,
   "id": "0b1c1629-809e-41a2-8404-c225672bd7fd",
   "metadata": {},
   "outputs": [],
   "source": [
    "f.close()"
   ]
  },
  {
   "cell_type": "code",
   "execution_count": 9,
   "id": "dcafed77-a1b2-47cb-a024-92593fe13c8a",
   "metadata": {},
   "outputs": [
    {
     "name": "stdout",
     "output_type": "stream",
     "text": [
      "t\n",
      "e\n",
      "s\n",
      "t\n"
     ]
    }
   ],
   "source": [
    "with open(file_name,'r') as f:\n",
    "     for line in f:\n",
    "         print(line, end='')"
   ]
  },
  {
   "cell_type": "code",
   "execution_count": 10,
   "id": "1fcc6f37-dccd-4adb-9436-d0033c8ec8ff",
   "metadata": {},
   "outputs": [],
   "source": [
    "lines_gen_expr = (f'{x}\\n' for x in range(10**6))\n",
    "def lines_gen_fun(number_lines=10**6):\n",
    " yield from (f'{x}\\n' for x in range(number_lines))\n",
    "with open(file_name,'w') as f:\n",
    " f.writelines(lines_gen_expr)\n",
    " f.writelines(lines_gen_fun())"
   ]
  },
  {
   "cell_type": "code",
   "execution_count": 11,
   "id": "7434545a-b6eb-4571-a4df-ec2be06cbe37",
   "metadata": {},
   "outputs": [
    {
     "name": "stdout",
     "output_type": "stream",
     "text": [
      "6.569757461547852 Mb\n"
     ]
    }
   ],
   "source": [
    "def lines_gen_fun(number_lines = 10**6):\n",
    " file_size = 0\n",
    " for x in range(number_lines):\n",
    "     line = f'{x}\\n'\n",
    "     yield line\n",
    "     file_size += len(line)\n",
    " print(f'{file_size/1024**2} Mb')\n",
    "\n",
    "with open(file_name,'w') as f:\n",
    " f.writelines(lines_gen_fun())"
   ]
  },
  {
   "cell_type": "code",
   "execution_count": 12,
   "id": "5cd867fc-3b61-4087-85f9-37fc333ad668",
   "metadata": {},
   "outputs": [
    {
     "data": {
      "text/plain": [
       "(1, 1, 1, 2)"
      ]
     },
     "execution_count": 12,
     "metadata": {},
     "output_type": "execute_result"
    }
   ],
   "source": [
    "len('f'), len('f'.encode('utf8')), len('ц'), len('ц'.encode('utf8'))"
   ]
  },
  {
   "cell_type": "code",
   "execution_count": 13,
   "id": "5f373a58-a823-46c9-afed-312ef349b10b",
   "metadata": {},
   "outputs": [
    {
     "name": "stdout",
     "output_type": "stream",
     "text": [
      "6.569757461547852 Mb\n",
      "1.296875 секунд\n"
     ]
    }
   ],
   "source": [
    "with open(file_name,'w') as f:\n",
    "    start = process_time()\n",
    "    f.writelines(lines_gen_fun())\n",
    "    end = process_time()\n",
    "    print(end - start, 'секунд')"
   ]
  },
  {
   "cell_type": "markdown",
   "id": "c3c94809-a212-4dce-ab36-36f3bd764580",
   "metadata": {},
   "source": [
    "$\\textcolor{red}{\\text{❀ ВСЕ КОММЕНТАРИИ ДОБАВЛЕНЫ В СВЯЗИ С ТРЕБОВАНИЯМИ К ЛАБОРОТОРНОЙ РАБОТЕ ❀}}$"
   ]
  },
  {
   "cell_type": "code",
   "execution_count": 14,
   "id": "830e9af5-bdbc-4e26-9947-3217613c939b",
   "metadata": {},
   "outputs": [],
   "source": [
    "def lines_gen_fun(number_lines=10**6, status=False):\n",
    "    \"\"\"\n",
    "    Генераторная функция для создания строк с числами от 0 до number_lines.\n",
    "    Резултат это статус выполнения при включеном параметре `status`.\n",
    "    \"\"\"\n",
    "     \n",
    "    file_size = 0    # Общий размер файла \n",
    "    for x in range(number_lines):\n",
    "        line = f'{x}\\n'  #Cтрока это число + перенос строки\n",
    "        yield line  #Возвращаем сгенеренную строку\n",
    "        file_size += len(line) #Увеличиваем размер на длину текущей строки\n",
    "        if status and x % 10 == 0:  #Выводим прогресс(поставила ограничение на вывод каждой 10 строки, т.к комп отказывается по другому работать:( )\n",
    "            status_number = x / number_lines * 100       # Процент выполнения\n",
    "            print(f'\\r{int(status_number)}%', end='', flush=True)  # Выводим процент выполнения с перезапианной строкой \n",
    "    print(f'\\n {file_size / 1024**2} Mb')  "
   ]
  },
  {
   "cell_type": "code",
   "execution_count": 15,
   "id": "ad798d02-e814-405e-9c28-4a5ea7de8ba2",
   "metadata": {
    "scrolled": true
   },
   "outputs": [
    {
     "name": "stdout",
     "output_type": "stream",
     "text": [
      "99%\n",
      " 0.013246536254882812 Mb\n",
      "0.21875 секунд\n"
     ]
    }
   ],
   "source": [
    "with open(file_name,'w') as f:\n",
    "    start = process_time()\n",
    "    f.writelines(lines_gen_fun(3*10**3, status=True))\n",
    "    end = process_time()\n",
    "print(f'{end - start} секунд')"
   ]
  },
  {
   "cell_type": "markdown",
   "id": "cfb3c406-1b20-4f3a-a987-8274b4ddcc64",
   "metadata": {},
   "source": [
    "## Задание 9.2. Генерация строк"
   ]
  },
  {
   "cell_type": "code",
   "execution_count": 16,
   "id": "7b4b0565-c373-40af-97d3-e5c3c6246404",
   "metadata": {},
   "outputs": [],
   "source": [
    "latin_code = (ord('a'), ord('z')) \n",
    "number_words = (10, 20)\n",
    "number_symbols = (5, 10)\n"
   ]
  },
  {
   "cell_type": "code",
   "execution_count": 17,
   "id": "97659fda-9480-4015-a0b2-ceea004b37b0",
   "metadata": {},
   "outputs": [
    {
     "data": {
      "text/plain": [
       "'qinjll'"
      ]
     },
     "execution_count": 17,
     "metadata": {},
     "output_type": "execute_result"
    }
   ],
   "source": [
    "len_word = randint(*number_symbols)\n",
    "word = ''.join([chr(randint(*latin_code)) for i in range(len_word)])\n",
    "word"
   ]
  },
  {
   "cell_type": "markdown",
   "id": "d9250a7a-3650-4678-b54c-bcb5dd477989",
   "metadata": {},
   "source": [
    "**Генерация строки со случайным количеством символов**"
   ]
  },
  {
   "cell_type": "code",
   "execution_count": 18,
   "id": "3de852a6-38f8-4bd0-8648-2238d6b742c3",
   "metadata": {},
   "outputs": [
    {
     "name": "stdout",
     "output_type": "stream",
     "text": [
      "750952231871 ЕНШФЫЙТ ЪИЯШРЕШ 41 394710 СЦСЭДЕРЧЭЙИЯЭН 58360473 698 ЭДЧУЯОЧОЙН\n"
     ]
    }
   ],
   "source": [
    "import random\n",
    "def random_string():\n",
    "    alphabet_lat = [chr(i) for i in range(65, 91)]       \n",
    "    alphabet_kir = [chr(i) for i in range(1040, 1072)]   \n",
    "    alphabet_kir.append(chr(1025))                       \n",
    "    digits = [chr(i) for i in range(48, 58)]     \n",
    "    \n",
    "    quan_words = random.randint(1, 10)  \n",
    "    words = []\n",
    "    \n",
    "    for _ in range(quan_words):\n",
    "        word_length = random.randint(1, 15)  \n",
    "  \n",
    "        selection = random.choice([alphabet_lat, digits, alphabet_kir])\n",
    "        word = ''.join(random.choice(selection) for _ in range(word_length))\n",
    "        words.append(word)\n",
    "    \n",
    "    return ' '.join(words)\n",
    "\n",
    "print(random_string())\n",
    "    "
   ]
  },
  {
   "cell_type": "markdown",
   "id": "b498e6c5-6346-468b-801d-ed049d0b575f",
   "metadata": {},
   "source": [
    "**Генераторная функция**"
   ]
  },
  {
   "cell_type": "code",
   "execution_count": 19,
   "id": "f32f6d39-9820-4f92-be61-f610cc50c73d",
   "metadata": {},
   "outputs": [],
   "source": [
    "def get_symbol_set(type_symbols):   #Отдельно выношу функцию для определения букв и цифр\n",
    "    latin_upper = [chr(i) for i in range(65, 91)]   \n",
    "    latin_lower = [chr(i) for i in range(97, 123)]  \n",
    "    latin_full = latin_upper + latin_lower\n",
    "\n",
    "    cyrillic_upper = [chr(i) for i in range(1040, 1072)] + [chr(1025)]  \n",
    "    cyrillic_lower = [chr(i) for i in range(1072, 1104)] + [chr(1105)] \n",
    "    cyrillic_full = cyrillic_upper + cyrillic_lower\n",
    "\n",
    "    digits = [chr(i) for i in range(48, 58)] \n",
    "\n",
    "    symbol_sets = {\n",
    "        'latin': latin_full,\n",
    "        'digits': digits,\n",
    "        'kiril': cyrillic_full,\n",
    "        'mix': latin_full + cyrillic_full + digits\n",
    "    }\n",
    "\n",
    "    result = symbol_sets.get(type_symbols)\n",
    "    if result is None:\n",
    "        raise ValueError(\"Правильно введите тип символов\")\n",
    "    return result"
   ]
  },
  {
   "cell_type": "code",
   "execution_count": 20,
   "id": "ac0e3885-1d23-467c-8a37-019c12abda90",
   "metadata": {},
   "outputs": [],
   "source": [
    "def lines_gen_fun_v2(file_size, type_symbols, number_words, number_symbols):\n",
    "    \"\"\"\n",
    "    Генераторная функция для создания строк с случайными символами.\n",
    "    Строки генерируются до достижения указанного размера `file_size`\n",
    "    \"\"\"\n",
    "    \n",
    "    bytes_limit = file_size * 1024**2  #Мегабайты -> байты\n",
    "    symbol_set = get_symbol_set(type_symbols)  \n",
    "    total_size = 0  #Для подсчёта текущего размера файла\n",
    "\n",
    "    while total_size < bytes_limit:   # Генерируем строки, пока их общий размер не достигнет `bytes_limit`\n",
    "        my_list = [''.join([random.choice(symbol_set) for _ in range(number_symbols)]) for _ in range(number_words)] #Создание случайных слов\n",
    "        line = ' '.join(my_list)  #Объединяем слова в одну строку \n",
    "        \n",
    "        line_size = len(line.encode('utf-8'))   #Вычисляем размер строк\n",
    "\n",
    "        if total_size + line_size > bytes_limit:  # Если строка превышает лимит останавливаем\n",
    "            break \n",
    "\n",
    "        yield line  \n",
    "        total_size += line_size   \n"
   ]
  },
  {
   "cell_type": "code",
   "execution_count": 27,
   "id": "7f1ee7d8-114e-412b-b9e7-d64e00a76807",
   "metadata": {},
   "outputs": [],
   "source": [
    "file_size = 1 \n",
    "type_symbols = 'mix'\n",
    "number_words = 10\n",
    "number_symbols = 10\n",
    "      \n",
    "generator = lines_gen_fun_v2(file_size, type_symbols, number_words, number_symbols)"
   ]
  },
  {
   "cell_type": "code",
   "execution_count": 28,
   "id": "7a1dad71-dd85-4411-a9d0-d4bb4945204f",
   "metadata": {},
   "outputs": [
    {
     "name": "stdout",
     "output_type": "stream",
     "text": [
      "яeЭUjГGяOr kмSiрц3ЗOt zufWQФ9цJI UоИ83ыЦкNu ч9OcМDшДИ0 Rtз4БakЗБД еТчЛnzфЕцр 0ЙшКnДБaSУ gUd0rBщьЯЗ MЖвтWО9н6o\n"
     ]
    }
   ],
   "source": [
    "print(next(generator))"
   ]
  },
  {
   "cell_type": "code",
   "execution_count": 29,
   "id": "39ee3914-2d15-413e-8bfa-b532ed7b0df3",
   "metadata": {},
   "outputs": [
    {
     "name": "stdout",
     "output_type": "stream",
     "text": [
      "юwiЕ9Ютсeъ 0te5eупmдэ ТОщ0ЭТобгФ НЛFрЕxjбy5 хЁЩCAMСgЦZ шшbЕqБkЯбм Бlg2coнЩщm ЭaXжБfЭKв0 ЛЬя5МЧGжOж ЁытАШФоUЮЙ\n",
      "PьгШЫКFТyd ФнЮЛhhiжЗz НDjoЮвSKы4 ZjАЙЕeжSmы ЕkMрНъyxэь swЫйnУaArw и4м8ШВFK1Ё uЪEkыZХQп8 ЮHЯГГLQoИЯ КWbДКЛYюQВ\n",
      "6жVОЮ1RUpь yьGsсЗOсDk ёxeдtHоВПC ЩбtL2щХIНЛ 6фZ7iкasИE 1ДюrъdnxвC гфМыЬщAьлK PЫъq3рМO7в gвKжЦZГэTB r2ЙСАукgОс\n",
      "dYjЭУшpFgО vbчъяЭ1в2Г ХэTVн2ХсZГ уDыэКСй5Pb nОЙ1dМ3ЗВ1 цgoЪnVГАбШ кvёЫДююЛМK пнuc9яuуjV пb6YlE4ЗУe 5аbнсАчNMP\n",
      "иъgгЯЩZTфВ sM1хшЩд7lB фЪф6rАнcвЬ ЗngЬЧХГщЭы ыKЛЧвqAщХD ЗG7выБАOeш Ьеу3IsЧлwX лПАrGhПыb4 4qдцЬЫИJТH МPиЩшM8Пup\n",
      "ьжЗКЛешЙУК оtбйуeSзнB К6йKIФЧаUV ьEeИufXлшN sяWфпщЛжoM xфjБwnЩйчШ Z5r2Пэ3Kйч ШЦeAZ9QuНv lQyВaJЗYwА яъМзЯApГЗМ\n",
      "3ЯozгdшуpИ sХUЩеfнwTf UИ3pZ5oАал юbOёTIпyTа ИНdtЩqcZВВ ХJФLПeзэяa bjЙеиVxFqЬ цЯTGwкAДX1 AХуtУjвlqs YеёСПyЭзLб\n",
      "cДКUTакIdf ЦAНнtFуДCx 7зМZЖ0оyлe wьMBыЮCQkХ ЭтцтЪэТЬeМ iЁybмЛОzдТ иТdкшПСшвЙ Vws1ЁСjЗу5 ЭwРyеtcUОА ллчЙK8yюте\n",
      "RSУццвuхSX dyrЪВPлоёb MТGбИXнжзN яЪщzаТNЧж2 wuЁГЁ7ыаJО жД7EЫШЬкпq ааЫз0KНclЮ oc5GвыaхФЯ ВС3XAЧzФ9Ч ыHЁЕЁЁъ87e\n",
      "БЦЬжЁЫбщmЗ оъыОЬИ7nwЦ 5ЙуO4RhК4V 4RцлRLХФУP ЪNipbфyFye sсZ8ЭГЗUTh ОИHWOT1бbT fрАS3ШвЩуч уHгWйJBVр2 роАi3yCауК\n"
     ]
    }
   ],
   "source": [
    "for i in range(10):\n",
    "    print(next(generator))"
   ]
  },
  {
   "cell_type": "markdown",
   "id": "ada8b3c0-c0c2-40da-b68b-3453335dcf0a",
   "metadata": {},
   "source": [
    "## Задание 9.3. Запись сгенерированных строк в текстовый файл"
   ]
  },
  {
   "cell_type": "code",
   "execution_count": 34,
   "id": "2d9cfba7-370e-4534-9bc1-517273aecf54",
   "metadata": {},
   "outputs": [],
   "source": [
    "import time\n",
    "\n",
    "def file_gen(file_name: str,\n",
    "             file_size: int,\n",
    "             type_symbols: str = 'latin',\n",
    "             number_words: (int, int) = (10, 20),\n",
    "             number_symbols: (int, int) = (5, 10)):\n",
    "    \"\"\"\n",
    "    Генерирует файл со случайными строками.\n",
    "    \n",
    "    \"\"\"\n",
    "    \n",
    "    start_time = time.process_time() # Таймер чтобы времени выполнения\n",
    "    bytes_written = 0  # Подсчет записанных байтов\n",
    "    bytes_limit = file_size * 1024**2   #Мегабайты -> байты\n",
    "    step_size = bytes_limit // 10  #Шаг для обновления процента выполнения\n",
    "    next_status = step_size  # Следующий порог обновления статуса\n",
    "\n",
    "    with open(file_name, 'w') as f:\n",
    "        for line in lines_gen_fun_v2(file_size, type_symbols,  random.randint(*number_words), random.randint(*number_symbols)): # Случайное количество слов и длина слова\n",
    "            f.write(line + '\\n') # Добавляем строку в файл учитывая `\\n`\n",
    "            bytes_written += len(line.encode('utf-8')) + 1  \n",
    "\n",
    "            if bytes_written >= next_status: # Если записанный объем данных достиг порога \n",
    "                progress = int(bytes_written / bytes_limit * 100) # Рассчитываем процент выполнения\n",
    "                print(f\"\\rПроцент записанных данных: {progress}%\", end=\"\", flush=True)\n",
    "                next_status += step_size  # Обновляем порог для следующего обновления статуса\n",
    "\n",
    "    print(f\"\\nФактический размер: {bytes_written / 1024**2:.2f} МБ\")\n",
    "    print(f\"Время выполнения: {time.process_time() - start_time:.2f} секунд\")\n"
   ]
  },
  {
   "cell_type": "code",
   "execution_count": 35,
   "id": "18c724dc-f75d-409d-a0f4-f35527eea8e8",
   "metadata": {},
   "outputs": [
    {
     "name": "stdout",
     "output_type": "stream",
     "text": [
      "Процент записанных данных: 100%\n",
      "Фактический размер: 1.01 МБ\n",
      "Время выполнения: 0.45 секунд\n"
     ]
    }
   ],
   "source": [
    "file_name=\"result1.txt\"\n",
    "file_size=1\n",
    "type_symbols=\"mix\"\n",
    "file_gen(file_name, file_size,type_symbols)"
   ]
  },
  {
   "cell_type": "code",
   "execution_count": 36,
   "id": "1eaf121d-336d-429f-a83b-2e843883c799",
   "metadata": {},
   "outputs": [
    {
     "name": "stdout",
     "output_type": "stream",
     "text": [
      "Процент записанных данных: 100%\n",
      "Фактический размер: 5.01 МБ\n",
      "Время выполнения: 1.66 секунд\n"
     ]
    }
   ],
   "source": [
    "file_name=\"result2.txt\"\n",
    "file_size=5\n",
    "type_symbols=\"kiril\"\n",
    "file_gen(file_name, file_size,type_symbols)"
   ]
  },
  {
   "cell_type": "code",
   "execution_count": 37,
   "id": "79b2e3be-b3e1-4f6f-9e29-a9d1b71db832",
   "metadata": {},
   "outputs": [
    {
     "name": "stdout",
     "output_type": "stream",
     "text": [
      "Процент записанных данных: 100%\n",
      "Фактический размер: 10.08 МБ\n",
      "Время выполнения: 5.42 секунд\n"
     ]
    }
   ],
   "source": [
    "file_name=\"result3.txt\"\n",
    "file_size=10\n",
    "type_symbols=\"latin\"\n",
    "file_gen(file_name, file_size,type_symbols)"
   ]
  },
  {
   "cell_type": "code",
   "execution_count": null,
   "id": "87efbc98-0048-412c-8e54-a3634f9ebeea",
   "metadata": {},
   "outputs": [],
   "source": []
  }
 ],
 "metadata": {
  "kernelspec": {
   "display_name": "Python 3 (ipykernel)",
   "language": "python",
   "name": "python3"
  },
  "language_info": {
   "codemirror_mode": {
    "name": "ipython",
    "version": 3
   },
   "file_extension": ".py",
   "mimetype": "text/x-python",
   "name": "python",
   "nbconvert_exporter": "python",
   "pygments_lexer": "ipython3",
   "version": "3.10.16"
  }
 },
 "nbformat": 4,
 "nbformat_minor": 5
}
