{
 "cells": [
  {
   "cell_type": "markdown",
   "id": "fa359287-47a5-475c-b3d4-ef8d72b4540b",
   "metadata": {},
   "source": [
    "# Лабораторная работа 7"
   ]
  },
  {
   "cell_type": "markdown",
   "id": "5870a378-1a36-41fa-9815-cb7b8180218c",
   "metadata": {},
   "source": [
    "## Построение бинарного дерева поиска. Подсчет количества элементов в дереве"
   ]
  },
  {
   "cell_type": "markdown",
   "id": "be34e1ad-10ce-4b3f-b16d-a066a551392f",
   "metadata": {},
   "source": [
    "*Ляпунова Арина Сегреевна, 14.05.2025* "
   ]
  },
  {
   "cell_type": "markdown",
   "id": "4ca6fd59-3963-40ae-b66c-b183dfbe86be",
   "metadata": {},
   "source": [
    "## Задание 7.1 Определение классов"
   ]
  },
  {
   "cell_type": "markdown",
   "id": "41cc0c2b-4723-49be-94e5-524a4b12e74e",
   "metadata": {},
   "source": [
    "**Бинарное дерево поиска** будет представлено экземпляром класса  `BinaryTree`- это упорядоченная динамическая структура данных,\n",
    "которая позволяет быстро производить поиск элементов, а также быстро удалять и добавлять элементы.\n",
    "\n",
    "**Элемент дерева**(сущность,имеющую значение и связанную с левым и правым поддеревом, если они существуют) будет представлен экземпляром класса `BinaryNode`.\n",
    "\n",
    "**Пустое бинарное дерево** поиска будет представлено экземпляром класса `EmptyNode`.\n"
   ]
  },
  {
   "cell_type": "code",
   "execution_count": 84,
   "id": "f49b83f2-5178-46b4-945d-d7480e06a2f5",
   "metadata": {},
   "outputs": [],
   "source": [
    "class BinaryTree:\n",
    "    \"\"\"Бинарное дерево, которое управляет корневым узлом\"\"\"\n",
    "    def __init__(self):\n",
    "        self.root = EmptyNode()  # пустое дерево\n",
    "        \n",
    "    def __repr__(self):\n",
    "        \"\"\"Строковое представление дерева\"\"\"\n",
    "        return repr(self.root)\n",
    "        \n",
    "    def insert(self, value):\n",
    "        \"\"\"Вставка значения в дерево\"\"\"\n",
    "        self.root = self.root.insert(value)  # делегируем вставку узлу\n",
    "    def build_from_list(self, data):\n",
    "        \"\"\"Построение дерева из списка значений\"\"\"\n",
    "        for value in data:\n",
    "            self.insert(value)\n",
    "        return self\n",
    "\n",
    "\n",
    "class BinaryNode:\n",
    "    \"\"\"Узел дерева\"\"\"\n",
    "    def __init__(self, left, value, right):\n",
    "        self.left = left    # левый узел \n",
    "        self.value = value  # значение узла\n",
    "        self.right = right  # правый узел \n",
    "        \n",
    "    def __repr__(self):\n",
    "        \"\"\"Вывод узла в виде (левый, значение, правый)\"\"\"\n",
    "        return f'({self.left}, {self.value}, {self.right})'\n",
    "\n",
    "\n",
    "class EmptyNode:\n",
    "    \"\"\"Пустой узел\"\"\"\n",
    "    def __repr__(self):\n",
    "        \"\"\"Вывод пустого узла\"\"\"\n",
    "        return '*'\n",
    "    \n",
    "    def insert(self, value):\n",
    "        \"\"\"Создаёт новый узел при вставке значения\"\"\"\n",
    "        return BinaryNode(self, value, self)"
   ]
  },
  {
   "cell_type": "markdown",
   "id": "4c572111-0922-48ab-9534-1b7a14637f52",
   "metadata": {},
   "source": [
    "## Задание 7.2 Метод вставки элемента в бинарное дерево поиска"
   ]
  },
  {
   "cell_type": "markdown",
   "id": "c99e7062-375f-40c4-9111-081e07c25cdf",
   "metadata": {},
   "source": [
    "Переопределите класс `BinaryNode` за счет определения метода вставки `insert(self, value)`."
   ]
  },
  {
   "cell_type": "code",
   "execution_count": 109,
   "id": "2ba0ddc8-5fd9-45c5-86f4-d65e49999049",
   "metadata": {},
   "outputs": [],
   "source": [
    "class BinaryNode: # Конструктор класса (инициализация узла)\n",
    "    def __init__(self, left, value, right):\n",
    "        self.left = left    # Левый потомок \n",
    "        self.value = value  # Значение, хранящееся в узле\n",
    "        self.right = right  # Правый потомок \n",
    "        \n",
    "    def __repr__(self): # Метод для строкового представления узла\n",
    "        return f'({self.left}, {self.value}, {self.right})' # Возвращает строку \n",
    "    \n",
    "    def insert(self, value): # Метод вставки нового значения в дерево\n",
    "        # Если вставляемое значение меньше текущего значения узла\n",
    "        if value < self.value: # Рекурсивно вставляем в левое поддерево\n",
    "            self.left = self.left.insert(value)\n",
    "        else:  # Иначе (если >=) - вставляем в правое поддерево\n",
    "            self.right = self.right.insert(value)\n",
    "        return self # Возвращаем текущий узел для поддержки цепочки вызовов"
   ]
  },
  {
   "cell_type": "code",
   "execution_count": 86,
   "id": "21889f1c-f76f-4443-ba7a-559542caccb2",
   "metadata": {},
   "outputs": [
    {
     "name": "stdout",
     "output_type": "stream",
     "text": [
      "((((*, 2, *), 4, *), 6, *), 8, *)\n"
     ]
    }
   ],
   "source": [
    "nums = [8,6 ,4, 2]\n",
    "tree = BinaryTree()\n",
    "for num in nums:\n",
    "    tree.insert(num)\n",
    "print(tree)  "
   ]
  },
  {
   "cell_type": "code",
   "execution_count": 87,
   "id": "73da4144-30a8-4084-94e0-d8d948ba50aa",
   "metadata": {},
   "outputs": [
    {
     "name": "stdout",
     "output_type": "stream",
     "text": [
      "(*, a, ((*, g, *), m, (*, o, ((*, s, *), u, *))))\n"
     ]
    }
   ],
   "source": [
    "tree = BinaryTree()\n",
    "for char in \"amogus\":\n",
    "    tree.insert(char)\n",
    "print(tree)"
   ]
  },
  {
   "cell_type": "code",
   "execution_count": 88,
   "id": "76fb99c4-b35c-42ed-8a34-68fedfedccf4",
   "metadata": {},
   "outputs": [
    {
     "name": "stdout",
     "output_type": "stream",
     "text": [
      "((((((*, 2, *), 4, *), 6, *), 8, *), 10, *), 12, *)\n"
     ]
    }
   ],
   "source": [
    "tree = BinaryTree()\n",
    "for num in range(12, 0, -2): \n",
    "    tree.insert(num)\n",
    "print(tree) "
   ]
  },
  {
   "cell_type": "markdown",
   "id": "ffad2916-5dfb-4809-86a0-d504dd2a65a0",
   "metadata": {},
   "source": [
    "## Задание 7.3 Построение бинарного дерева поиска"
   ]
  },
  {
   "cell_type": "code",
   "execution_count": 89,
   "id": "734532b3-cf73-4fe5-a409-eb20e6915656",
   "metadata": {},
   "outputs": [],
   "source": [
    "import json\n",
    "import numpy as np\n",
    "\n",
    "def read_column_file(filename):\n",
    "    \"\"\"Чтение данных из файла с числами в столбец\"\"\"\n",
    "    data = []\n",
    "    try:\n",
    "        with open(filename, 'r') as file:\n",
    "            for line in file:\n",
    "                stripped = line.strip()\n",
    "                if stripped:\n",
    "                    try:\n",
    "                        data.append(float(stripped))\n",
    "                    except ValueError:\n",
    "                        continue\n",
    "    except FileNotFoundError:\n",
    "        print(f\"Файл {filename} не найден.\")\n",
    "    return data\n",
    "\n",
    "def read_grid_file(filename):\n",
    "    \"\"\"Чтение данных из файла с сеткой чисел (одинаковое количество в строках)\"\"\"\n",
    "    try:\n",
    "        return np.loadtxt(filename).flatten().tolist()\n",
    "    except Exception as e:\n",
    "        print(f\"Ошибка: {e}\")\n",
    "        return []\n",
    "\n",
    "def read_arbitrary_file(filename):\n",
    "    \"\"\"Чтение данных из файла с произвольными строками\"\"\"\n",
    "    data = []\n",
    "    try:\n",
    "        with open(filename, 'r') as file:\n",
    "            for line in file:\n",
    "                try:\n",
    "                    nums = list(map(float, line.strip().split()))\n",
    "                    data.extend(nums)\n",
    "                except ValueError:\n",
    "                    continue\n",
    "    except FileNotFoundError:\n",
    "        print(f\"Файл {filename} не найден.\")\n",
    "    return data\n",
    "\n",
    "def read_json_file(filename):\n",
    "    \"\"\"Чтение данных из JSON-файла\"\"\"\n",
    "    try:\n",
    "        with open(filename, 'r') as file:\n",
    "            data = json.load(file)\n",
    "        flattened = []\n",
    "        def flatten(lst):\n",
    "            for item in lst:\n",
    "                if isinstance(item, list):\n",
    "                    flatten(item)\n",
    "                else:\n",
    "                    flattened.append(float(item))\n",
    "        flatten(data)\n",
    "        return flattened\n",
    "    except Exception as e:\n",
    "        print(f\"Ошибка: {e}\")\n",
    "        return []"
   ]
  },
  {
   "cell_type": "code",
   "execution_count": 90,
   "id": "aa255e4b-e1db-4d0f-ba0a-483399c8f395",
   "metadata": {},
   "outputs": [
    {
     "name": "stdout",
     "output_type": "stream",
     "text": [
      "((*, 0.0, *), 1.0, ((*, 1.0, *), 2.0, (*, 3.0, (*, 4.0, (*, 5.0, (*, 6.0, (*, 7.0, (*, 8.0, (*, 9.0, ((*, 9.0, *), 10.0, (*, 11.0, ((*, 14.0, (*, 15.0, (*, 16.0, (*, 18.0, *)))), 23.0, (*, 33.0, (*, 34.0, (*, 55.0, (*, 67.0, (*, 78.0, (*, 90.0, *))))))))))))))))))\n"
     ]
    }
   ],
   "source": [
    "tree = BinaryTree()\n",
    "data = read_column_file(\"column.txt\")\n",
    "tree.build_from_list(data)\n",
    "print(tree)"
   ]
  },
  {
   "cell_type": "code",
   "execution_count": 91,
   "id": "ef8893f1-20e7-44d0-8e1f-da8abcff6c2f",
   "metadata": {},
   "outputs": [
    {
     "name": "stdout",
     "output_type": "stream",
     "text": [
      "(*, 1.0, (*, 2.0, (*, 3.0, (*, 4.0, (*, 5.0, (*, 6.0, (*, 11.0, (*, 12.0, (*, 13.0, (*, 14.0, (*, 15.0, (*, 16.0, (*, 21.0, (*, 22.0, (*, 23.0, (*, 24.0, (*, 25.0, (*, 26.0, (*, 45.0, (*, 46.0, (*, 47.0, (*, 48.0, (*, 49.0, (*, 50.0, (*, 91.0, (*, 92.0, (*, 93.0, (*, 94.0, (*, 95.0, (*, 99.0, *))))))))))))))))))))))))))))))\n"
     ]
    }
   ],
   "source": [
    "tree = BinaryTree()\n",
    "data = read_grid_file(\"matrix.txt\") \n",
    "tree.build_from_list(data)\n",
    "print(tree)"
   ]
  },
  {
   "cell_type": "code",
   "execution_count": 92,
   "id": "f7f0da4d-594a-48da-8e49-0b12d1064f8c",
   "metadata": {},
   "outputs": [
    {
     "name": "stdout",
     "output_type": "stream",
     "text": [
      "(*, 66.0, *)\n"
     ]
    }
   ],
   "source": [
    "tree = BinaryTree()\n",
    "data = read_column_file(\"messy.txt\")\n",
    "tree.build_from_list(data)\n",
    "print(tree)"
   ]
  },
  {
   "cell_type": "markdown",
   "id": "d97f7b6a-f3e5-4743-85c2-e89c4ad366c7",
   "metadata": {},
   "source": [
    "## Задание 7.4. Перегрузка операции принадлежности in"
   ]
  },
  {
   "cell_type": "markdown",
   "id": "a1883b24-7075-4423-ab6f-f7f4e9de2fec",
   "metadata": {},
   "source": [
    "Переопределите классы `BinaryTree`, `BinaryNode`, `EmptyNode` за счет определения нового метода __contains__(self, value) для перегрузки операции принадлежности `in`"
   ]
  },
  {
   "cell_type": "code",
   "execution_count": 93,
   "id": "b44fa44a-dbc1-4dd3-953b-ea3e9c7c9bf9",
   "metadata": {},
   "outputs": [],
   "source": [
    "class EmptyNode:\n",
    "    \"\"\"Пустой узел\"\"\"\n",
    "    def __repr__(self):\n",
    "        return '*'\n",
    "    \n",
    "    def insert(self, value):\n",
    "        return BinaryNode(EmptyNode(), value, EmptyNode())\n",
    "    \n",
    "    def __contains__(self, value):\n",
    "        \"\"\"Пустой узел никогда не содержит значений\"\"\"\n",
    "        return False\n",
    "\n",
    "class BinaryNode:\n",
    "    \"\"\"Узел бинарного дерева поиска\"\"\"\n",
    "    def __init__(self, left, value, right):\n",
    "        self.left = left    \n",
    "        self.value = value  \n",
    "        self.right = right  \n",
    "        \n",
    "    def __repr__(self):\n",
    "        return f'({self.left}, {self.value}, {self.right})'\n",
    "    \n",
    "    def insert(self, value):\n",
    "        if value < self.value:\n",
    "            self.left = self.left.insert(value)\n",
    "        else:\n",
    "            self.right = self.right.insert(value)\n",
    "        return self\n",
    "    \n",
    "    def __contains__(self, value):\n",
    "        \"\"\"Проверка наличия значения в узле или его потомках\"\"\"\n",
    "        if value == self.value:\n",
    "            return True\n",
    "        elif value < self.value:\n",
    "            return value in self.left  # рекурсивный поиск в левом поддереве\n",
    "        else:\n",
    "            return value in self.right # рекурсивный поиск в правом поддереве\n",
    "\n",
    "class BinaryTree:\n",
    "    \"\"\"Бинарное дерево поиска\"\"\"\n",
    "    def __init__(self):\n",
    "        self.root = EmptyNode()\n",
    "        \n",
    "    def __repr__(self):\n",
    "        return repr(self.root)\n",
    "    \n",
    "    def insert(self, value):\n",
    "        self.root = self.root.insert(value)\n",
    "    \n",
    "    def __contains__(self, value):\n",
    "        \"\"\"Проверка наличия значения в дереве\"\"\"\n",
    "        return value in self.root"
   ]
  },
  {
   "cell_type": "code",
   "execution_count": 94,
   "id": "ba2e9d67-a42f-40f9-bd34-f87a5d061faf",
   "metadata": {},
   "outputs": [
    {
     "name": "stdout",
     "output_type": "stream",
     "text": [
      "(*, 5, *)\n",
      "((*, 1, *), 5, *)\n",
      "((*, 1, *), 5, (*, 10, *))\n",
      "((*, 1, (*, 3, *)), 5, (*, 10, *))\n",
      "((*, 1, (*, 3, (*, 4, *))), 5, (*, 10, *))\n",
      "(0, False) (1, True) (2, False) (3, True) (4, True) (5, True) (6, False) (7, False) (8, False) (9, False) "
     ]
    }
   ],
   "source": [
    "source_data = [5,1,10,3,4]\n",
    "tree = BinaryTree()\n",
    "for i in source_data:\n",
    " tree.insert(i)\n",
    " print(tree)\n",
    "for i in range(10):\n",
    " print((i, i in tree), end = ' ')"
   ]
  },
  {
   "cell_type": "markdown",
   "id": "68498d3c-9863-4725-a279-94d2f94955db",
   "metadata": {},
   "source": [
    "1)пример намбер ван"
   ]
  },
  {
   "cell_type": "code",
   "execution_count": 95,
   "id": "d86494c3-e991-411b-8cef-5498f40b9cb4",
   "metadata": {},
   "outputs": [
    {
     "name": "stdout",
     "output_type": "stream",
     "text": [
      "False\n"
     ]
    }
   ],
   "source": [
    "tree = BinaryTree()\n",
    "numbs = [8,6,4,2]\n",
    "for num in numbs:\n",
    "    tree.insert(num)\n",
    "\n",
    "print(3 in tree) \n"
   ]
  },
  {
   "cell_type": "markdown",
   "id": "69a140fb-51b6-4562-9da8-d0e82c2e1587",
   "metadata": {},
   "source": [
    "2)пример намбер ту"
   ]
  },
  {
   "cell_type": "code",
   "execution_count": 96,
   "id": "c2138fac-7eb7-4035-9d65-f4cb10251167",
   "metadata": {},
   "outputs": [
    {
     "name": "stdout",
     "output_type": "stream",
     "text": [
      "False\n"
     ]
    }
   ],
   "source": [
    "tree = BinaryTree()\n",
    "print(11 in tree)"
   ]
  },
  {
   "cell_type": "markdown",
   "id": "59525652-b209-47e6-a190-bc9e9b87c04a",
   "metadata": {},
   "source": [
    "3) пример намбер три"
   ]
  },
  {
   "cell_type": "code",
   "execution_count": 97,
   "id": "03d3e956-81b4-46aa-8522-f79553d581ed",
   "metadata": {},
   "outputs": [
    {
     "name": "stdout",
     "output_type": "stream",
     "text": [
      "True\n"
     ]
    }
   ],
   "source": [
    "tree = BinaryTree()\n",
    "numbs = [12]\n",
    "for num in numbs:\n",
    "    tree.insert(num)\n",
    "\n",
    "print(12 in tree) "
   ]
  },
  {
   "cell_type": "markdown",
   "id": "32082a96-488d-4c17-942c-b95e8f359791",
   "metadata": {},
   "source": [
    "## Задание 7.5 Перегрузка встроенной функции len"
   ]
  },
  {
   "cell_type": "markdown",
   "id": "79f0325b-ddd1-4579-a8e3-3c53af2b01c0",
   "metadata": {},
   "source": [
    "Переопределите классы `BinaryTree`, `BinaryNode`, `EmptyNode` за счет определения нового метода __len__(self) для перегрузки встроенной функции `len`, которая возвращает количество вершин в бинарном дереве поиска"
   ]
  },
  {
   "cell_type": "code",
   "execution_count": 98,
   "id": "87546d50-caa3-4e55-98a7-fffaea1b8f40",
   "metadata": {},
   "outputs": [],
   "source": [
    "class EmptyNode:\n",
    "    \"\"\"Пустой узел\"\"\"\n",
    "    def __repr__(self):\n",
    "        return '*'\n",
    "    \n",
    "    def insert(self, value):\n",
    "        return BinaryNode(EmptyNode(), value, EmptyNode())\n",
    "    \n",
    "    def __len__(self):\n",
    "        \"\"\"Пустой узел имеет длину 0\"\"\"\n",
    "        return 0\n",
    "\n",
    "class BinaryNode:\n",
    "    \"\"\"Узел бинарного дерева поиска\"\"\"\n",
    "    def __init__(self, left, value, right):\n",
    "        self.left = left    \n",
    "        self.value = value  \n",
    "        self.right = right  \n",
    "        \n",
    "    def __repr__(self):\n",
    "        return f'({self.left}, {self.value}, {self.right})'\n",
    "    \n",
    "    def insert(self, value):\n",
    "        if value < self.value:\n",
    "            self.left = self.left.insert(value)\n",
    "        else:\n",
    "            self.right = self.right.insert(value)\n",
    "        return self\n",
    "    \n",
    "    def __len__(self):\n",
    "        \"\"\"Количество узлов: текущий узел + левое поддерево + правое поддерево\"\"\"\n",
    "        return 1 + len(self.left) + len(self.right)\n",
    "\n",
    "class BinaryTree:\n",
    "    \"\"\"Бинарное дерево поиска\"\"\"\n",
    "    def __init__(self):\n",
    "        self.root = EmptyNode()\n",
    "        \n",
    "    def __repr__(self):\n",
    "        return repr(self.root)\n",
    "    \n",
    "    def insert(self, value):\n",
    "        self.root = self.root.insert(value)\n",
    "    \n",
    "    def __len__(self):\n",
    "        \"\"\"Общее количество узлов в дереве\"\"\"\n",
    "        return len(self.root)"
   ]
  },
  {
   "cell_type": "code",
   "execution_count": 99,
   "id": "f9aca681-31b9-4a01-b2fa-e6679f7187fb",
   "metadata": {},
   "outputs": [
    {
     "data": {
      "text/plain": [
       "5"
      ]
     },
     "execution_count": 99,
     "metadata": {},
     "output_type": "execute_result"
    }
   ],
   "source": [
    "tree = BinaryTree()\n",
    "for i in source_data:\n",
    " tree.insert(i)\n",
    "len(tree)"
   ]
  },
  {
   "cell_type": "markdown",
   "id": "a7bd2cdb-46f8-43c4-b76e-c797d8c4d2c9",
   "metadata": {},
   "source": [
    "1)пример намбер ван"
   ]
  },
  {
   "cell_type": "code",
   "execution_count": 105,
   "id": "080cdd80-6a50-4efd-a617-ee6522e91f03",
   "metadata": {},
   "outputs": [
    {
     "name": "stdout",
     "output_type": "stream",
     "text": [
      "4\n"
     ]
    }
   ],
   "source": [
    "tree.insert(10)\n",
    "print(len(tree))"
   ]
  },
  {
   "cell_type": "markdown",
   "id": "f04d6780-60da-4037-b8b3-48145082a996",
   "metadata": {},
   "source": [
    "2)пример намбер ту"
   ]
  },
  {
   "cell_type": "code",
   "execution_count": 106,
   "id": "70e68487-f3de-4e66-92b9-58c14b5f27da",
   "metadata": {},
   "outputs": [
    {
     "name": "stdout",
     "output_type": "stream",
     "text": [
      "0\n"
     ]
    }
   ],
   "source": [
    "tree = BinaryTree()\n",
    "print(len(tree))"
   ]
  },
  {
   "cell_type": "markdown",
   "id": "e8279962-89b5-4d91-9de0-8d3ecd730af2",
   "metadata": {},
   "source": [
    "3)пример намбер три"
   ]
  },
  {
   "cell_type": "code",
   "execution_count": 108,
   "id": "51f03968-a067-4162-9709-61f7c4e6cd35",
   "metadata": {},
   "outputs": [
    {
     "name": "stdout",
     "output_type": "stream",
     "text": [
      "4\n"
     ]
    }
   ],
   "source": [
    "tree = BinaryTree()\n",
    "values = [8,6,4,2]\n",
    "for n in values:\n",
    "    tree.insert(n)\n",
    "print(len(tree))"
   ]
  },
  {
   "cell_type": "code",
   "execution_count": null,
   "id": "e7fba99a-cc47-432f-a8cd-16659289639b",
   "metadata": {},
   "outputs": [],
   "source": []
  }
 ],
 "metadata": {
  "kernelspec": {
   "display_name": "Python 3 (ipykernel)",
   "language": "python",
   "name": "python3"
  },
  "language_info": {
   "codemirror_mode": {
    "name": "ipython",
    "version": 3
   },
   "file_extension": ".py",
   "mimetype": "text/x-python",
   "name": "python",
   "nbconvert_exporter": "python",
   "pygments_lexer": "ipython3",
   "version": "3.10.16"
  }
 },
 "nbformat": 4,
 "nbformat_minor": 5
}
