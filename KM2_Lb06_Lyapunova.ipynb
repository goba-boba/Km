{
 "cells": [
  {
   "cell_type": "markdown",
   "id": "3e81e48e-dd0d-42dd-a58c-257617e9c836",
   "metadata": {},
   "source": [
    "# Лабораторная работа 6"
   ]
  },
  {
   "cell_type": "markdown",
   "id": "23fe3446-bea2-49e2-8e52-f43b1e5c98a2",
   "metadata": {},
   "source": [
    "## Выравнивание списка, состоящего из итерируемых объектов, на основе рекурсии"
   ]
  },
  {
   "cell_type": "markdown",
   "id": "b60e5596-f54c-41c8-b619-7649a7d211d2",
   "metadata": {},
   "source": [
    "*Ляпунова Арина Сегреевна, 30.04.2025* "
   ]
  },
  {
   "cell_type": "code",
   "execution_count": 49,
   "id": "89f92418-d3d4-4e43-b8da-aee93a3fc387",
   "metadata": {},
   "outputs": [
    {
     "data": {
      "text/plain": [
       "3000"
      ]
     },
     "execution_count": 49,
     "metadata": {},
     "output_type": "execute_result"
    }
   ],
   "source": [
    "import sys\n",
    "sys.getrecursionlimit()"
   ]
  },
  {
   "cell_type": "markdown",
   "id": "895c0f3b-8bd6-4355-919f-c919c0c47c64",
   "metadata": {},
   "source": [
    "## Задание 6.1. Выравнивание вложенных списков"
   ]
  },
  {
   "cell_type": "markdown",
   "id": "1cbfa9dd-9f52-4fde-be7c-11c23a828ec4",
   "metadata": {},
   "source": [
    "***Задание 6.1.1. Рекурсивная функция flatten_list_v1***"
   ]
  },
  {
   "cell_type": "code",
   "execution_count": 50,
   "id": "3548bb57-360f-4233-b50b-7cd7b86afcba",
   "metadata": {},
   "outputs": [],
   "source": [
    "it_list = [[1],[2,[3]],[[[[[4]]]]],5,6,7]"
   ]
  },
  {
   "cell_type": "code",
   "execution_count": 51,
   "id": "0478a3f1-860f-4849-b2d3-dc726d6b2067",
   "metadata": {},
   "outputs": [],
   "source": [
    "def flatten_list_v1(nested_obj):\n",
    "    result = []  # Инициализируем пустой список для хранения результата\n",
    "    if isinstance(nested_obj,list): #  является ли объект списком\n",
    "        for item in nested_obj: # проходимся по элементам списка\n",
    "            result += flatten_list_v1(item) # рекурсия\n",
    "    else:            #Если это не список, добавляем элемент в итоговый список как есть\n",
    "        result += [nested_obj] # добавляем в результат\n",
    "    return result"
   ]
  },
  {
   "cell_type": "code",
   "execution_count": 52,
   "id": "6a24217e-5b45-4b47-aedc-19e39f4e14c0",
   "metadata": {},
   "outputs": [
    {
     "data": {
      "text/plain": [
       "[1, 2, 3, 4, 5, 6, 7]"
      ]
     },
     "execution_count": 52,
     "metadata": {},
     "output_type": "execute_result"
    }
   ],
   "source": [
    "flatten_list_v1(it_list)"
   ]
  },
  {
   "cell_type": "markdown",
   "id": "f8d8c72c-d63e-46fa-8c78-8667860b47ae",
   "metadata": {},
   "source": [
    "***Задание 6.1.2. Генераторная функция на основе рекурсии flatten_list_v2***"
   ]
  },
  {
   "cell_type": "markdown",
   "id": "0c406639-907f-48bb-b7bc-5478563b3514",
   "metadata": {},
   "source": [
    "На основе функции `flatten_list_v1` напишите генераторную функцию `flatten_list_v2(nested_obj)`, которая выравнивает вложенный список и возвращает генератнорый объект для элементов вложенного списка.\n",
    "\n",
    "Напишите комментарии для каждой строки кода функции `flatten_list_v2`.\n",
    "\n",
    "Предложите два варианта реализации: только с использованием `yield (вариант 1)` и с использованием `yield from(вариант 2)`."
   ]
  },
  {
   "cell_type": "markdown",
   "id": "e9cfeebd-af3d-4441-9e97-ab798243270e",
   "metadata": {},
   "source": [
    "*1 Вариант:*"
   ]
  },
  {
   "cell_type": "code",
   "execution_count": 107,
   "id": "beb90289-7869-4406-be5c-457895df4e6f",
   "metadata": {},
   "outputs": [],
   "source": [
    "def flatten_list_v2(nested_obj):\n",
    "    if isinstance(nested_obj, list): # Проверяем, является ли текущий объект списком\n",
    "        for item in nested_obj:# Если это список, перебираем его элементы\n",
    "            for element in flatten_list_v2(item):\n",
    "                yield element\n",
    "    else:\n",
    "        yield nested_obj"
   ]
  },
  {
   "cell_type": "code",
   "execution_count": 108,
   "id": "165c952c-27cb-421a-91e1-2424940da1b7",
   "metadata": {},
   "outputs": [
    {
     "name": "stdout",
     "output_type": "stream",
     "text": [
      "[1, 2, 3, 4, 5, 6, 7]\n"
     ]
    }
   ],
   "source": [
    "print([x for x in flatten_list_v2(it_list)])"
   ]
  },
  {
   "cell_type": "markdown",
   "id": "3db05a1b-fa8c-4334-ad9e-0c6f106b69ab",
   "metadata": {},
   "source": [
    "*2 Вариант*:"
   ]
  },
  {
   "cell_type": "code",
   "execution_count": 109,
   "id": "7a3e1bb3-52cd-4e62-86c4-56b10cc7b900",
   "metadata": {},
   "outputs": [],
   "source": [
    "def flatten_list_v2(nested_obj):\n",
    "    if isinstance(nested_obj, list): # Проверяем, является ли текущий объект списком\n",
    "        for item in nested_obj:  # Если это список, перебираем его элементы\n",
    "            yield from flatten_list_v2(item) \n",
    "    else:\n",
    "        yield nested_obj"
   ]
  },
  {
   "cell_type": "code",
   "execution_count": 56,
   "id": "680b077c-b5f0-4fd4-ba26-afc92aaeb668",
   "metadata": {},
   "outputs": [
    {
     "name": "stdout",
     "output_type": "stream",
     "text": [
      "[1, 2, 3, 4, 5, 6, 7]\n"
     ]
    }
   ],
   "source": [
    "print([x for x in flatten_list_v2(it_list)])"
   ]
  },
  {
   "cell_type": "markdown",
   "id": "9450669d-5533-4b71-9748-f60dc3719083",
   "metadata": {},
   "source": [
    "***Задание 6.1.3. Функция flatten_list: создание, документирование, тестирование***"
   ]
  },
  {
   "cell_type": "markdown",
   "id": "b6086b23-9ff7-4abe-955b-621fd181557b",
   "metadata": {},
   "source": [
    "Объедините две пользовательские функции `flatten_list_v1` и `flatten_list_v2` в одну пользовательскую функцию `flatten_list(nested_obj, gen)`, которая возвращает либо список из элементов вложенных списков без сохранения структуры, если `gen=False`, либо возвращает генераторный объект, если `gen=True`. Стандартным значением для аргумента `gen` является объект `False`."
   ]
  },
  {
   "cell_type": "code",
   "execution_count": 57,
   "id": "90b4accc-1fc4-4d13-8978-fda2240525ee",
   "metadata": {},
   "outputs": [],
   "source": [
    "def flatten_list(nested_obj, gen=False):\n",
    "    \"\"\" Возвращает список или генераторный объект элементов вложенных списков \"\"\"\n",
    "    if gen:\n",
    "        return flatten_list_v1(nested_obj)  \n",
    "    else:\n",
    "        return flatten_list_v2(nested_obj)  "
   ]
  },
  {
   "cell_type": "code",
   "execution_count": 58,
   "id": "d88d5f32-40ad-4c64-b4ad-9ce8be247809",
   "metadata": {},
   "outputs": [
    {
     "data": {
      "text/plain": [
       "[1, 2, 3, 4, 5, 6, 7]"
      ]
     },
     "execution_count": 58,
     "metadata": {},
     "output_type": "execute_result"
    }
   ],
   "source": [
    "[x for x in flatten_list_v2(it_list)]"
   ]
  },
  {
   "cell_type": "markdown",
   "id": "ad3291b4-cfea-4b9d-87b6-a25c8a2f3539",
   "metadata": {},
   "source": [
    "Три примера вызова функции flatten_list для различных значений аргументов:"
   ]
  },
  {
   "cell_type": "code",
   "execution_count": 59,
   "id": "8175cad2-e4c1-451a-8c57-6f23dfb1e815",
   "metadata": {},
   "outputs": [
    {
     "name": "stdout",
     "output_type": "stream",
     "text": [
      "<generator object flatten_list_v2 at 0x0000016E062998C0>\n"
     ]
    }
   ],
   "source": [
    "my_list = [1, [2, [[3, 4]], 5]]#Функция вызвана без указания gen, поэтому возвращает плоский список всех элементов, рекурсивно обойдя вложенные структуры.\n",
    "result = flatten_list(my_list)\n",
    "print(result)"
   ]
  },
  {
   "cell_type": "code",
   "execution_count": 60,
   "id": "def074d2-88b2-4e61-89ff-1b83f9d4f342",
   "metadata": {},
   "outputs": [
    {
     "name": "stdout",
     "output_type": "stream",
     "text": [
      "<generator object flatten_list_v2 at 0x0000016E0629BBC0>\n"
     ]
    }
   ],
   "source": [
    "complex_list = [1, [\"a\", [2.5, (\"hello\",)], True], {\"key\": \"value\"}]\n",
    "result = flatten_list(complex_list, gen=False)\n",
    "print(result)"
   ]
  },
  {
   "cell_type": "code",
   "execution_count": 63,
   "id": "08446370-4702-4e0a-8fcc-628c57381d5d",
   "metadata": {},
   "outputs": [
    {
     "name": "stdout",
     "output_type": "stream",
     "text": [
      "[1, 2, 3, 5, 10, 15, 9]\n"
     ]
    }
   ],
   "source": [
    "large_list = [[n, [n*2, [n*3]]] for n in range(1,100,4)]\n",
    "generator = flatten_list(large_list, gen=False)\n",
    "some_elements = [next(generator) for _ in range(7)]\n",
    "print(some_elements)"
   ]
  },
  {
   "cell_type": "markdown",
   "id": "90a15ac0-6688-4891-ae5f-edc42f4fdc18",
   "metadata": {},
   "source": [
    "## Задание 6.2. Выравнивание вложенныхитерируемых объектов произвольного типа"
   ]
  },
  {
   "cell_type": "code",
   "execution_count": 32,
   "id": "e45a224f-082f-4abc-a350-121e814f0f31",
   "metadata": {},
   "outputs": [
    {
     "data": {
      "text/plain": [
       "[[1], [2, [3]], [[[[[4]]]]], 5, 6, 7]"
      ]
     },
     "execution_count": 32,
     "metadata": {},
     "output_type": "execute_result"
    }
   ],
   "source": [
    "it_list"
   ]
  },
  {
   "cell_type": "code",
   "execution_count": 33,
   "id": "b5fe8f76-6080-4f1c-bc1f-b23e319dbddc",
   "metadata": {},
   "outputs": [],
   "source": [
    "it_tuple = (((7),(8)),(9),10)"
   ]
  },
  {
   "cell_type": "code",
   "execution_count": 34,
   "id": "4ba6b96f-e8f2-4a62-a2db-dcdf5018cae8",
   "metadata": {},
   "outputs": [],
   "source": [
    "it_str = \"abcdefgh\""
   ]
  },
  {
   "cell_type": "code",
   "execution_count": 35,
   "id": "fe87a325-413e-4233-ad64-ce8cc4e4da94",
   "metadata": {},
   "outputs": [],
   "source": [
    "it_dict = {\"key1\": 11, \"key2\": {\"key3\": 12}}"
   ]
  },
  {
   "cell_type": "code",
   "execution_count": 36,
   "id": "c2841ad5-d837-4c08-90a2-8be44919cf63",
   "metadata": {},
   "outputs": [],
   "source": [
    "it_gen = ([i,i**2,i**3] for i in range(5))"
   ]
  },
  {
   "cell_type": "code",
   "execution_count": 37,
   "id": "42865ce0-047c-4735-b9e0-5c1d5ac50fd4",
   "metadata": {},
   "outputs": [],
   "source": [
    "it_file = open(\"flatten_file.txt\")"
   ]
  },
  {
   "cell_type": "markdown",
   "id": "21715580-db70-4583-b565-e57957998cb7",
   "metadata": {},
   "source": [
    "Объединим все итерируемые объекты в список"
   ]
  },
  {
   "cell_type": "code",
   "execution_count": 38,
   "id": "6243b570-f549-4781-b239-e85fe1972c57",
   "metadata": {},
   "outputs": [],
   "source": [
    "it = [it_list, it_tuple, it_str, it_dict, it_gen, it_file]"
   ]
  },
  {
   "cell_type": "markdown",
   "id": "6bccf043-116c-433e-9af3-039746ba575b",
   "metadata": {},
   "source": [
    "Все итерируемые объекты имеют метод __iter__ для создания объекта итератора"
   ]
  },
  {
   "cell_type": "code",
   "execution_count": 39,
   "id": "70430561-26c5-45ba-bddf-73b955acb577",
   "metadata": {},
   "outputs": [
    {
     "data": {
      "text/plain": [
       "[True, True, True, True, True, True]"
      ]
     },
     "execution_count": 39,
     "metadata": {},
     "output_type": "execute_result"
    }
   ],
   "source": [
    "['__iter__' in dir(x) for x in it]"
   ]
  },
  {
   "cell_type": "code",
   "execution_count": 40,
   "id": "2710fb9f-7919-4de7-9ac6-e83a2fd2ad6d",
   "metadata": {},
   "outputs": [
    {
     "data": {
      "text/plain": [
       "[True, True, True, True, True, True]"
      ]
     },
     "execution_count": 40,
     "metadata": {},
     "output_type": "execute_result"
    }
   ],
   "source": [
    "[hasattr(x, '__iter__') for x in it]"
   ]
  },
  {
   "cell_type": "markdown",
   "id": "a317e661-6c72-49c2-b2df-3de744af7f09",
   "metadata": {},
   "source": [
    "***Задание 6.2.1. Рекурсивная функция flatten_it_v1***"
   ]
  },
  {
   "cell_type": "code",
   "execution_count": 41,
   "id": "962c86d2-341c-41f1-9afd-cdd8611b475c",
   "metadata": {},
   "outputs": [],
   "source": [
    "def flatten_it_v1(nested_obj):\n",
    "    result = [] \n",
    "    if hasattr(nested_obj, '__iter__'):  # проверяем, является ли объект итерируемым\n",
    "        if isinstance(nested_obj, str):  # если строка, не итерируем\n",
    "            result += [nested_obj]  # добавляем строку\n",
    "        elif isinstance(nested_obj, dict):  # если словарь, итерируем по ключам и значениям\n",
    "            for key, value in nested_obj.items():\n",
    "                result += flatten_it_v1(key)  # добавляем ключи\n",
    "                result += flatten_it_v1(value)  # добавляем значения\n",
    "        else:\n",
    "            for item in nested_obj:  # проходим по элементам итерируемого объекта\n",
    "                result += flatten_it_v1(item)  # рекурсивно добавляем элементы\n",
    "    else:\n",
    "        result += [nested_obj]  # добавляем элемент, если он не итерируем\n",
    "    return result  "
   ]
  },
  {
   "cell_type": "code",
   "execution_count": 42,
   "id": "7bcb86a0-7754-4e93-93a3-4dd8acebf32d",
   "metadata": {},
   "outputs": [
    {
     "name": "stdout",
     "output_type": "stream",
     "text": [
      "[1, 2, 3, 4, 5, 6, 7]\n",
      "['key1', 11, 'key2', 'key3', 12]\n"
     ]
    }
   ],
   "source": [
    "print(flatten_it_v1(it_list))\n",
    "print(flatten_it_v1(it_dict))"
   ]
  },
  {
   "cell_type": "markdown",
   "id": "35d683d1-d7b3-46cf-a1ab-deaf9851c592",
   "metadata": {},
   "source": [
    "***Задание 6.2.2. Генераторная функция на основе рекурсии flatten_it_v2***"
   ]
  },
  {
   "cell_type": "markdown",
   "id": "4688f6f4-ce46-4d3a-8ead-afe0b68b682c",
   "metadata": {},
   "source": [
    "На основе функций `flatten_it_v`1 и `flatten_list_v2` напишите пользовательскую функцию `flatten_it_v2(nested_obj)` , которая выравнивает вложенную структуру из различных итерируемых объектов и возвращает генератнорый объект элементов без сохранения структуры"
   ]
  },
  {
   "cell_type": "code",
   "execution_count": 64,
   "id": "278aef61-6cd6-41bd-a126-5ef851140d13",
   "metadata": {},
   "outputs": [],
   "source": [
    "def flatten_it_v2(nested_obj):\n",
    "    if isinstance(nested_obj, str):  # Сначала проверяем строки отдельно\n",
    "        yield nested_obj\n",
    "    elif hasattr(nested_obj, '__iter__'):  # Затем всё остальное итерируемое\n",
    "        if isinstance(nested_obj, dict):\n",
    "            for key, value in nested_obj.items():\n",
    "                yield from flatten_it_v2(key)\n",
    "                yield from flatten_it_v2(value)\n",
    "        else:\n",
    "            for item in nested_obj:\n",
    "                yield from flatten_it_v2(item)\n",
    "    else:  # Простые неитерируемые объекты\n",
    "        yield nested_obj"
   ]
  },
  {
   "cell_type": "code",
   "execution_count": 65,
   "id": "1a6ed06f-8298-45d4-951f-2eed3e09a25b",
   "metadata": {},
   "outputs": [
    {
     "name": "stdout",
     "output_type": "stream",
     "text": [
      "[1, 2, 3, 4, 5, 6, 7]\n"
     ]
    }
   ],
   "source": [
    "print([x for x in flatten_it_v2(it_list)])"
   ]
  },
  {
   "cell_type": "markdown",
   "id": "e5e68098-0c7c-48ad-87f4-d9aacdc4fdcb",
   "metadata": {},
   "source": [
    "***Задание 6.2.3. Функция flatten_it: создание, документирование, тестирование***"
   ]
  },
  {
   "cell_type": "code",
   "execution_count": 66,
   "id": "5200539c-5ca3-4c89-97ad-57aea5fa3ff8",
   "metadata": {},
   "outputs": [],
   "source": [
    "def flatten_it(nested_obj, gen=False):\n",
    "    def _flatten_gen(obj):\n",
    "        if isinstance(obj, str):  # Сначала проверяем строки отдельно\n",
    "            yield obj\n",
    "        elif hasattr(obj, '__iter__'):  # Затем всё остальное итерируемое\n",
    "            if isinstance(obj, dict):\n",
    "                for key, value in obj.items():\n",
    "                    yield from _flatten_gen(key)\n",
    "                    yield from _flatten_gen(value)\n",
    "            else:\n",
    "                for item in obj:\n",
    "                    yield from _flatten_gen(item)\n",
    "        else:  # Простые неитерируемые объекты\n",
    "            yield obj\n",
    "    \n",
    "    return _flatten_gen(nested_obj) if gen else list(_flatten_gen(nested_obj))"
   ]
  },
  {
   "cell_type": "code",
   "execution_count": 67,
   "id": "73a81ab2-deca-43fe-adce-4c76bfd40cfb",
   "metadata": {},
   "outputs": [
    {
     "name": "stdout",
     "output_type": "stream",
     "text": [
      "[1, 'x', 2, 3, 'text']\n"
     ]
    }
   ],
   "source": [
    "data = [1, {'x': (2, [3])}, \"text\"]\n",
    "print(flatten_it(data)) "
   ]
  },
  {
   "cell_type": "code",
   "execution_count": 68,
   "id": "53b078b4-a297-4949-a801-108b04a6eb9f",
   "metadata": {},
   "outputs": [
    {
     "name": "stdout",
     "output_type": "stream",
     "text": [
      "['hello']\n"
     ]
    }
   ],
   "source": [
    "print(flatten_it(\"hello\", gen=False))  "
   ]
  },
  {
   "cell_type": "code",
   "execution_count": 69,
   "id": "2e6b4097-8298-4482-acef-6033c5c3d20f",
   "metadata": {},
   "outputs": [
    {
     "name": "stdout",
     "output_type": "stream",
     "text": [
      "[1, 'a', 'hello', 2.5, 3, 4, 5, 'b', None]\n"
     ]
    }
   ],
   "source": [
    "data = [1, {\"a\": (\"hello\", [2.5, {3, 4}])}, [5, {\"b\": None}]]\n",
    "result = flatten_it(data)\n",
    "print(result)"
   ]
  },
  {
   "cell_type": "markdown",
   "id": "5626c09d-f4cf-45d4-b519-09613c93c8fe",
   "metadata": {},
   "source": [
    "## Задание 6.3. Обработка циклических объектов"
   ]
  },
  {
   "cell_type": "code",
   "execution_count": 70,
   "id": "d27a5a18-7772-4e1a-9875-89624b8fda47",
   "metadata": {},
   "outputs": [],
   "source": [
    "it_list_cyclic = it_list[:]\n",
    "it_list_cyclic.append(it_list_cyclic)"
   ]
  },
  {
   "cell_type": "code",
   "execution_count": 71,
   "id": "fdfb53c0-0137-40f7-89d4-7d5fff0f920c",
   "metadata": {},
   "outputs": [
    {
     "data": {
      "text/plain": [
       "[[1], [2, [3]], [[[[[4]]]]], 5, 6, 7, [...]]"
      ]
     },
     "execution_count": 71,
     "metadata": {},
     "output_type": "execute_result"
    }
   ],
   "source": [
    "it_list_cyclic"
   ]
  },
  {
   "cell_type": "code",
   "execution_count": 72,
   "id": "16f24c4d-a000-4933-876d-df9e4543e715",
   "metadata": {},
   "outputs": [],
   "source": [
    "def flatten_list_v1(nested_obj):\n",
    "    result = []\n",
    "    if isinstance(nested_obj,list):\n",
    "        for item in nested_obj:\n",
    "            if item is nested_obj:\n",
    "                raise ValueError(\"Cyclic list is found\") # генерация исключения\n",
    "            else:\n",
    "                result += flatten_list_v1(item)\n",
    "    else:\n",
    "        result += [nested_obj]\n",
    "    return result"
   ]
  },
  {
   "cell_type": "code",
   "execution_count": 73,
   "id": "9a68f481-d163-49d5-977b-d3cd385d44c6",
   "metadata": {},
   "outputs": [
    {
     "data": {
      "text/plain": [
       "[1, 2, 3, 4, 5, 6, 7]"
      ]
     },
     "execution_count": 73,
     "metadata": {},
     "output_type": "execute_result"
    }
   ],
   "source": [
    "flatten_list_v1(it_list)"
   ]
  },
  {
   "cell_type": "code",
   "execution_count": 74,
   "id": "4d00de93-e127-4086-9546-8e442f3850c7",
   "metadata": {},
   "outputs": [
    {
     "ename": "ValueError",
     "evalue": "Cyclic list is found",
     "output_type": "error",
     "traceback": [
      "\u001b[1;31m---------------------------------------------------------------------------\u001b[0m",
      "\u001b[1;31mValueError\u001b[0m                                Traceback (most recent call last)",
      "Cell \u001b[1;32mIn[74], line 1\u001b[0m\n\u001b[1;32m----> 1\u001b[0m \u001b[43mflatten_list_v1\u001b[49m\u001b[43m(\u001b[49m\u001b[43mit_list_cyclic\u001b[49m\u001b[43m)\u001b[49m\n",
      "Cell \u001b[1;32mIn[72], line 6\u001b[0m, in \u001b[0;36mflatten_list_v1\u001b[1;34m(nested_obj)\u001b[0m\n\u001b[0;32m      4\u001b[0m \u001b[38;5;28;01mfor\u001b[39;00m item \u001b[38;5;129;01min\u001b[39;00m nested_obj:\n\u001b[0;32m      5\u001b[0m     \u001b[38;5;28;01mif\u001b[39;00m item \u001b[38;5;129;01mis\u001b[39;00m nested_obj:\n\u001b[1;32m----> 6\u001b[0m         \u001b[38;5;28;01mraise\u001b[39;00m \u001b[38;5;167;01mValueError\u001b[39;00m(\u001b[38;5;124m\"\u001b[39m\u001b[38;5;124mCyclic list is found\u001b[39m\u001b[38;5;124m\"\u001b[39m) \u001b[38;5;66;03m# генерация исключения\u001b[39;00m\n\u001b[0;32m      7\u001b[0m     \u001b[38;5;28;01melse\u001b[39;00m:\n\u001b[0;32m      8\u001b[0m         result \u001b[38;5;241m+\u001b[39m\u001b[38;5;241m=\u001b[39m flatten_list_v1(item)\n",
      "\u001b[1;31mValueError\u001b[0m: Cyclic list is found"
     ]
    }
   ],
   "source": [
    "flatten_list_v1(it_list_cyclic)"
   ]
  },
  {
   "cell_type": "markdown",
   "id": "efa692d0-1bf1-431f-848a-b30e5687348c",
   "metadata": {},
   "source": [
    "Для того, чтобы стандартное сообщение об ошибке не выводилось, перехватим\n",
    "созданное нами исключение `ValueError` внутри функции `flatten_list_v1` с\n",
    "использованием оператора `try` в сочетании с `except` . Если внутри блока `try`\n",
    "возникнет исключение `ValueError` , то процесс выполнения кода перейдет в блок\n",
    "оператора `except` , для которого указано исключение `ValueError`"
   ]
  },
  {
   "cell_type": "code",
   "execution_count": 75,
   "id": "c6d46793-e19f-47fc-a0b2-cdef0ff94c04",
   "metadata": {},
   "outputs": [
    {
     "name": "stdout",
     "output_type": "stream",
     "text": [
      "Cyclic list is found\n"
     ]
    }
   ],
   "source": [
    "try:\n",
    " print(flatten_list_v1(it_list_cyclic))\n",
    "except ValueError as e:\n",
    " print(e)\n"
   ]
  },
  {
   "cell_type": "markdown",
   "id": "7a6a00a6-3faf-443d-ac11-a7e0de94c865",
   "metadata": {},
   "source": [
    "***Задание 6.3.1. Доопределение функции flatten_it***"
   ]
  },
  {
   "cell_type": "markdown",
   "id": "0ad2b7fd-efc4-4807-83ab-3d01adcdcbfd",
   "metadata": {},
   "source": [
    "Доопределите пользовательскую функцию `flatten_it` "
   ]
  },
  {
   "cell_type": "code",
   "execution_count": 103,
   "id": "6273a5a4-eae8-46db-9561-af3c31415fca",
   "metadata": {},
   "outputs": [],
   "source": [
    "def flatten_it(nested_obj, gen=False):\n",
    "    \n",
    "    visited = set()  # Для хранения id посещенных объектов\n",
    "\n",
    "    def flatten_gen(obj):\n",
    "        obj_id = id(obj) # Получаем уникальный идентификатор объекта, чтоюы отслеживать повторяющтеся объекты\n",
    "        if isinstance(obj, (list, dict, set)):# Проверяем только изменяемые итерируемые объекты\n",
    "            if obj_id in visited:\n",
    "                raise ValueError(\"Ахтунг, обнаружен цикл\")\n",
    "            visited.add(obj_id)\n",
    "            try:\n",
    "                if isinstance(obj, dict): # Обрабатываем словарь как в предыдущих функциях \n",
    "                    for key, value in obj.items():\n",
    "                        yield from flatten_gen(key)\n",
    "                        yield from flatten_gen(value)\n",
    "                else: # Обрабатываем списки/множества/кортежи\n",
    "                    for element in obj:\n",
    "                        yield from flatten_gen(element)\n",
    "            finally:\n",
    "                visited.remove(obj_id)  # Без finally объект мог бы остаться в множестве visited, если при обработке его элементов возникнет исключение\n",
    "        elif isinstance(obj,str): # Строки возвращаем как есть\n",
    "            yield obj\n",
    "        else: # Для остальных неитерируемыемых объектов\n",
    "            yield obj\n",
    "    try:\n",
    "        result = flatten_gen(nested_obj)\n",
    "        if gen:\n",
    "            return result\n",
    "        else:\n",
    "             return list(result)\n",
    "    except ValueError as e:\n",
    "        raise ValueError(f\"Ошибка при выравнивании структуры: {e}\") from None"
   ]
  },
  {
   "cell_type": "markdown",
   "id": "4495be64-e058-47e5-8298-262f4c1932cc",
   "metadata": {},
   "source": [
    "***Задание 6.3.2. Тестирование функции flatten_it***\n"
   ]
  },
  {
   "cell_type": "code",
   "execution_count": 104,
   "id": "1da6f64a-be90-4f72-9cc2-a93d0212a29d",
   "metadata": {},
   "outputs": [
    {
     "name": "stdout",
     "output_type": "stream",
     "text": [
      "[1, 'a', 2, 3, (4, 5)]\n"
     ]
    }
   ],
   "source": [
    "normal_data = [1, {'a': [2, 3]}, (4, 5)]\n",
    "try:\n",
    "    result = flatten_it(normal_data)\n",
    "    print( result) \n",
    "except ValueError as e:\n",
    "    print(\"ошибка:\", e)"
   ]
  },
  {
   "cell_type": "code",
   "execution_count": 106,
   "id": "cf26feee-989a-45c1-8fff-b79f13f11cc2",
   "metadata": {},
   "outputs": [
    {
     "name": "stdout",
     "output_type": "stream",
     "text": [
      "['hello']\n"
     ]
    }
   ],
   "source": [
    "text = \"hello\"\n",
    "try:\n",
    "    result = flatten_it(text)\n",
    "    print( result)\n",
    "except ValueError as e:\n",
    "    print(\"ошибка:\", e)"
   ]
  },
  {
   "cell_type": "code",
   "execution_count": 102,
   "id": "066d032d-ec34-4fb0-83f5-1808b573848a",
   "metadata": {},
   "outputs": [
    {
     "name": "stdout",
     "output_type": "stream",
     "text": [
      "ошибка: Ахтунг, обнаружен цикл\n"
     ]
    }
   ],
   "source": [
    "cyclic_dict = {'a': 1, 'b': 2}\n",
    "cyclic_dict['self'] = cyclic_dict  # Добавляем ссылку на самого себя\n",
    "try:\n",
    "    result = list(flatten_it(cyclic_dict, gen=True))\n",
    "    print( result)\n",
    "except ValueError as e:\n",
    "    print(\"ошибка:\", e)  "
   ]
  }
 ],
 "metadata": {
  "kernelspec": {
   "display_name": "Python 3 (ipykernel)",
   "language": "python",
   "name": "python3"
  },
  "language_info": {
   "codemirror_mode": {
    "name": "ipython",
    "version": 3
   },
   "file_extension": ".py",
   "mimetype": "text/x-python",
   "name": "python",
   "nbconvert_exporter": "python",
   "pygments_lexer": "ipython3",
   "version": "3.10.16"
  }
 },
 "nbformat": 4,
 "nbformat_minor": 5
}
