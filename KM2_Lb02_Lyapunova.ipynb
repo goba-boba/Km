{
 "cells": [
  {
   "cell_type": "markdown",
   "id": "3a01f7aa-d1ed-45b1-aa33-7c1a696a5991",
   "metadata": {},
   "source": [
    "# Лабораторная работа 2\n"
   ]
  },
  {
   "cell_type": "markdown",
   "id": "5abe8aae-32c4-4e47-9bd5-dba1f0cbaed3",
   "metadata": {},
   "source": [
    "## Встроенные типы объектов в Pyhon"
   ]
  },
  {
   "cell_type": "markdown",
   "id": "c8b5be3b-2b03-4505-a63c-b6ab91674c19",
   "metadata": {},
   "source": [
    "*Ляпунова Арина 20.03* "
   ]
  },
  {
   "cell_type": "markdown",
   "id": "cc3f09b6-f2c1-4bd0-aaf5-ad84f7cd9df5",
   "metadata": {},
   "source": [
    "## Задание 1."
   ]
  },
  {
   "cell_type": "markdown",
   "id": "d6cf3bb4-723d-4385-b31f-2a31a3474e81",
   "metadata": {},
   "source": [
    "**Построение иерархии встроенных типов в Python**: myGraf.png"
   ]
  },
  {
   "cell_type": "markdown",
   "id": "d029291d-eb95-4405-84be-a3a86647f676",
   "metadata": {},
   "source": [
    "<img src='C:\\Users\\arish\\OneDrive\\Изображения\\Снимки экрана\\myGraf.png' width=1000, heigth=1000>"
   ]
  },
  {
   "cell_type": "markdown",
   "id": "39f7dc96-c953-4b64-86f8-413553a0db83",
   "metadata": {},
   "source": [
    "## Задание 2."
   ]
  },
  {
   "cell_type": "markdown",
   "id": "ab2be657-b2a9-4754-8c69-c77a200590a1",
   "metadata": {},
   "source": [
    "**2.1 Проработка примеров, представленных в лекционном файле**"
   ]
  },
  {
   "cell_type": "markdown",
   "id": "91318bf6-91b2-4032-b347-e128996ce509",
   "metadata": {},
   "source": [
    "## 2.2 Встроенные типы объектов, представляющих числа"
   ]
  },
  {
   "cell_type": "code",
   "execution_count": 10,
   "id": "09eab374-a0bd-4018-bb8f-3f39b5b3c50f",
   "metadata": {},
   "outputs": [
    {
     "name": "stdout",
     "output_type": "stream",
     "text": [
      "0.65 0.65\n",
      "0.65 0.35\n",
      "0.65 3\n",
      "0.65 0.075\n"
     ]
    }
   ],
   "source": [
    "import decimal as dec\n",
    "print(0.5+0.15, dec.Decimal('0.5')+dec.Decimal('0.15'))\n",
    "print(0.5+0.15, dec.Decimal('0.5')-dec.Decimal('0.15'))\n",
    "print(0.5+0.15, dec.Decimal('0.5')//dec.Decimal('0.15'))\n",
    "print(0.5+0.15, dec.Decimal('0.5')*dec.Decimal('0.15'))"
   ]
  },
  {
   "cell_type": "code",
   "execution_count": 11,
   "id": "fb131ba9-9af3-425b-a8fc-9ac9c9e3cf99",
   "metadata": {},
   "outputs": [
    {
     "name": "stdout",
     "output_type": "stream",
     "text": [
      "0.65 13/20\n",
      "0.65 7/20\n",
      "0.65 3\n",
      "0.65 3/40\n"
     ]
    }
   ],
   "source": [
    "import fractions as frac\n",
    "print(0.5 + 0.15, frac.Fraction(1, 2) + frac.Fraction(3, 20)) \n",
    "print(0.5 + 0.15, frac.Fraction(1, 2) - frac.Fraction(3, 20))  \n",
    "print(0.5 + 0.15, frac.Fraction(1, 2) // frac.Fraction(3, 20))  \n",
    "print(0.5 + 0.15, frac.Fraction(1, 2) * frac.Fraction(3, 20)) "
   ]
  },
  {
   "cell_type": "markdown",
   "id": "5544cec6-4d8b-46ee-ab11-46b82e49bdf6",
   "metadata": {},
   "source": [
    "## 2.3 Встроенные типы последовательностей: str, list, tuple"
   ]
  },
  {
   "cell_type": "markdown",
   "id": "647566e9-051a-4c73-9b7d-70b67bdd369d",
   "metadata": {},
   "source": [
    "***1) Строка***"
   ]
  },
  {
   "cell_type": "markdown",
   "id": "9584c1bb-ce8f-450a-8cb9-95e4b89f0c13",
   "metadata": {},
   "source": [
    "- нарезание и конкатенация:"
   ]
  },
  {
   "cell_type": "code",
   "execution_count": 15,
   "id": "20481d6d-4f01-48b8-85a6-e28505a8da5a",
   "metadata": {},
   "outputs": [
    {
     "name": "stdout",
     "output_type": "stream",
     "text": [
      "slam\n"
     ]
    }
   ],
   "source": [
    "S = 'spam'\n",
    "S = S[:1] + 'l' + S[2:]\n",
    "print(S)"
   ]
  },
  {
   "cell_type": "markdown",
   "id": "c1b8598e-d752-4df3-a538-459710d85d86",
   "metadata": {},
   "source": [
    "- индексация и конкатенация:"
   ]
  },
  {
   "cell_type": "code",
   "execution_count": 17,
   "id": "6bd58350-4827-4eca-96fe-9092aa4def66",
   "metadata": {},
   "outputs": [
    {
     "name": "stdout",
     "output_type": "stream",
     "text": [
      "slam\n"
     ]
    }
   ],
   "source": [
    "S = 'spam'\n",
    "S = S[0] + 'l' + S[2:]\n",
    "print(S)"
   ]
  },
  {
   "cell_type": "markdown",
   "id": "ae6656fb-6216-4db9-a914-fffe46ffd900",
   "metadata": {},
   "source": [
    "- присваивание по индексу(не сработает, строки в Python неизменяемы):"
   ]
  },
  {
   "cell_type": "code",
   "execution_count": 41,
   "id": "c0f39c06-62bc-419d-a70f-164034d0af2c",
   "metadata": {
    "scrolled": true
   },
   "outputs": [
    {
     "ename": "TypeError",
     "evalue": "'str' object does not support item assignment",
     "output_type": "error",
     "traceback": [
      "\u001b[1;31m---------------------------------------------------------------------------\u001b[0m",
      "\u001b[1;31mTypeError\u001b[0m                                 Traceback (most recent call last)",
      "Cell \u001b[1;32mIn[41], line 2\u001b[0m\n\u001b[0;32m      1\u001b[0m S \u001b[38;5;241m=\u001b[39m \u001b[38;5;124m'\u001b[39m\u001b[38;5;124m spam\u001b[39m\u001b[38;5;124m'\u001b[39m\n\u001b[1;32m----> 2\u001b[0m S[\u001b[38;5;241m1\u001b[39m]\u001b[38;5;241m=\u001b[39m\u001b[38;5;124m'\u001b[39m\u001b[38;5;124ml\u001b[39m\u001b[38;5;124m'\u001b[39m\n\u001b[0;32m      3\u001b[0m \u001b[38;5;28mprint\u001b[39m(s)\n",
      "\u001b[1;31mTypeError\u001b[0m: 'str' object does not support item assignment"
     ]
    }
   ],
   "source": [
    "S = ' spam'\n",
    "S[1]='l'\n",
    "print(s)"
   ]
  },
  {
   "cell_type": "markdown",
   "id": "0d6af03e-b750-4822-902f-767b38f75bed",
   "metadata": {},
   "source": [
    "***2)Список***"
   ]
  },
  {
   "cell_type": "markdown",
   "id": "9d509784-3ef3-4d17-bb46-051cd1230bd2",
   "metadata": {},
   "source": [
    "- нарезание и конкатенация:"
   ]
  },
  {
   "cell_type": "code",
   "execution_count": 45,
   "id": "0397f98b-f746-4a7b-927c-030fa28d4675",
   "metadata": {},
   "outputs": [
    {
     "name": "stdout",
     "output_type": "stream",
     "text": [
      "['s', 'l', 'a', 'm']\n"
     ]
    }
   ],
   "source": [
    "L=list('spam')\n",
    "L = L[:1] + ['l'] + L[2:]  \n",
    "print(L) "
   ]
  },
  {
   "cell_type": "markdown",
   "id": "ae10992a-eb72-45dc-bd9d-27f2ff319c79",
   "metadata": {},
   "source": [
    "- индексация и конкатенация(не сработает, возвращаемый объект типа str, a мы не можем складывать строки и списки):"
   ]
  },
  {
   "cell_type": "code",
   "execution_count": 48,
   "id": "56168b5d-cd7e-4496-a1b3-0c67cfed2e66",
   "metadata": {},
   "outputs": [
    {
     "ename": "TypeError",
     "evalue": "can only concatenate str (not \"list\") to str",
     "output_type": "error",
     "traceback": [
      "\u001b[1;31m---------------------------------------------------------------------------\u001b[0m",
      "\u001b[1;31mTypeError\u001b[0m                                 Traceback (most recent call last)",
      "Cell \u001b[1;32mIn[48], line 2\u001b[0m\n\u001b[0;32m      1\u001b[0m L\u001b[38;5;241m=\u001b[39m\u001b[38;5;28mlist\u001b[39m(\u001b[38;5;124m'\u001b[39m\u001b[38;5;124mspam\u001b[39m\u001b[38;5;124m'\u001b[39m)\n\u001b[1;32m----> 2\u001b[0m L \u001b[38;5;241m=\u001b[39m L[\u001b[38;5;241m0\u001b[39m] \u001b[38;5;241m+\u001b[39m [\u001b[38;5;124m'\u001b[39m\u001b[38;5;124ml\u001b[39m\u001b[38;5;124m'\u001b[39m] \u001b[38;5;241m+\u001b[39m L[\u001b[38;5;241m2\u001b[39m:]  \n\u001b[0;32m      3\u001b[0m \u001b[38;5;28mprint\u001b[39m(L)\n",
      "\u001b[1;31mTypeError\u001b[0m: can only concatenate str (not \"list\") to str"
     ]
    }
   ],
   "source": [
    "L=list('spam')\n",
    "L = L[0] + ['l'] + L[2:]  \n",
    "print(L)"
   ]
  },
  {
   "cell_type": "markdown",
   "id": "d1f08ba2-28a2-4aea-9c4f-88cdb0d83568",
   "metadata": {},
   "source": [
    "- присваивание по индексу:"
   ]
  },
  {
   "cell_type": "code",
   "execution_count": 51,
   "id": "db7db027-ac3c-4698-9a74-7dc007ecc994",
   "metadata": {},
   "outputs": [
    {
     "name": "stdout",
     "output_type": "stream",
     "text": [
      "['s', 'l', 'a', 'm']\n"
     ]
    }
   ],
   "source": [
    "L = ['s', 'p', 'a', 'm']\n",
    "L[1] = 'l'\n",
    "print(L)"
   ]
  },
  {
   "cell_type": "markdown",
   "id": "9f5856bc-bd77-46ed-bde9-f114d5b55fa0",
   "metadata": {},
   "source": [
    "***3)Кортежи***"
   ]
  },
  {
   "cell_type": "markdown",
   "id": "8bb22891-6178-4568-bf30-29fe667376f9",
   "metadata": {},
   "source": [
    "- нарезание и конкатенация:"
   ]
  },
  {
   "cell_type": "code",
   "execution_count": 55,
   "id": "9ddbe062-9b68-4b7a-b595-233287128ac4",
   "metadata": {},
   "outputs": [
    {
     "name": "stdout",
     "output_type": "stream",
     "text": [
      "('s', 'l', 'a', 'm')\n"
     ]
    }
   ],
   "source": [
    "T = ('s', 'p', 'a', 'm')\n",
    "T= T[:1] + ('l',) + T[2:]\n",
    "print(T)"
   ]
  },
  {
   "cell_type": "markdown",
   "id": "fb38b80e-509c-4fb5-95b1-2791ca431da1",
   "metadata": {},
   "source": [
    "- индексация и конкатенация"
   ]
  },
  {
   "cell_type": "code",
   "execution_count": 58,
   "id": "06dc4400-8e43-4992-9940-533c2e79cdcd",
   "metadata": {},
   "outputs": [
    {
     "name": "stdout",
     "output_type": "stream",
     "text": [
      "('s', 'l', 'a', 'm')\n"
     ]
    }
   ],
   "source": [
    "T = ('s', 'p', 'a', 'm')\n",
    "T = (T[0],) + ('l',) + T[2:]\n",
    "print(T)"
   ]
  },
  {
   "cell_type": "markdown",
   "id": "d91b00ac-d22b-40b1-9fba-3be6c5372413",
   "metadata": {},
   "source": [
    "- присваивание по индексу(не сработает, кортежи, как и строки, в Python неизменяемы)"
   ]
  },
  {
   "cell_type": "code",
   "execution_count": 61,
   "id": "6984a6b5-44a6-45de-9e9e-bafe8a39a736",
   "metadata": {},
   "outputs": [
    {
     "ename": "TypeError",
     "evalue": "'tuple' object does not support item assignment",
     "output_type": "error",
     "traceback": [
      "\u001b[1;31m---------------------------------------------------------------------------\u001b[0m",
      "\u001b[1;31mTypeError\u001b[0m                                 Traceback (most recent call last)",
      "Cell \u001b[1;32mIn[61], line 2\u001b[0m\n\u001b[0;32m      1\u001b[0m T \u001b[38;5;241m=\u001b[39m (\u001b[38;5;124m'\u001b[39m\u001b[38;5;124ms\u001b[39m\u001b[38;5;124m'\u001b[39m, \u001b[38;5;124m'\u001b[39m\u001b[38;5;124mp\u001b[39m\u001b[38;5;124m'\u001b[39m, \u001b[38;5;124m'\u001b[39m\u001b[38;5;124ma\u001b[39m\u001b[38;5;124m'\u001b[39m, \u001b[38;5;124m'\u001b[39m\u001b[38;5;124mm\u001b[39m\u001b[38;5;124m'\u001b[39m)\n\u001b[1;32m----> 2\u001b[0m T[\u001b[38;5;241m1\u001b[39m] \u001b[38;5;241m=\u001b[39m \u001b[38;5;124m'\u001b[39m\u001b[38;5;124ml\u001b[39m\u001b[38;5;124m'\u001b[39m\n\u001b[0;32m      3\u001b[0m \u001b[38;5;28mprint\u001b[39m(T)\n",
      "\u001b[1;31mTypeError\u001b[0m: 'tuple' object does not support item assignment"
     ]
    }
   ],
   "source": [
    "T = ('s', 'p', 'a', 'm')\n",
    "T[1] = 'l'\n",
    "print(T)"
   ]
  },
  {
   "cell_type": "markdown",
   "id": "d33579bb-74bc-4bb7-8dae-8c8f67aa5434",
   "metadata": {},
   "source": [
    "## 2.4 Встроенный тип отображения: dict"
   ]
  },
  {
   "cell_type": "code",
   "execution_count": 64,
   "id": "7595d66f-7878-48a5-8834-b24c61378108",
   "metadata": {},
   "outputs": [
    {
     "name": "stdout",
     "output_type": "stream",
     "text": [
      "Арина\n",
      "17\n",
      "безработная\n",
      "ул.Пушкина, д.1, кв.1\n",
      "exexe@gmail.com\n",
      "+375 75 77 35 75\n"
     ]
    }
   ],
   "source": [
    "personal_info = {\n",
    "    \"name\": {\"first_name\": \"Арина\", \"middle_name\": \"Дельман\", \"last_name\": \"Марьевна\"},\n",
    "    \"age\": 17,\n",
    "    \"workplace\": \"безработная\",\n",
    "    \"address\": \"ул.Пушкина, д.1, кв.1\",\n",
    "    \"email\": \"exexe@gmail.com\",\n",
    "    \"phone_number\": \"+375 75 77 35 75\"\n",
    "}\n",
    "\n",
    "\n",
    "print(personal_info[\"name\"][\"first_name\"])     \n",
    "print(personal_info[\"age\"])                    \n",
    "print(personal_info[\"workplace\"])             \n",
    "print(personal_info[\"address\"])               \n",
    "print(personal_info[\"email\"])                  \n",
    "print(personal_info[\"phone_number\"])          "
   ]
  },
  {
   "cell_type": "markdown",
   "id": "94663925-a62f-4dca-b027-701a89987fa2",
   "metadata": {},
   "source": [
    "Словари не поддерживают позиционное упорядочение слева направо, как последовательности. Обращение к значению словаря/индексация словаря\n",
    "происходит по ключу.Внутренне словари реализованы как хеш-таблицы, обеспечивая очень быстрое извлечение элементов. Поэтому словарь является более осмысленной структурой для данной задачи."
   ]
  },
  {
   "cell_type": "markdown",
   "id": "4e23d161-36a2-42c1-bb9d-cd13d70df690",
   "metadata": {},
   "source": [
    "## 2.5 Встроенный тип множества: set"
   ]
  },
  {
   "cell_type": "markdown",
   "id": "9e649069-6a82-41fc-bd8f-1968ecd37fe8",
   "metadata": {},
   "source": [
    "Пример удаления повторяющихся символов строки с использованием множества:"
   ]
  },
  {
   "cell_type": "code",
   "execution_count": 69,
   "id": "ed24d176-dd7c-4064-947b-b7af2190ed77",
   "metadata": {},
   "outputs": [
    {
     "name": "stdout",
     "output_type": "stream",
     "text": [
      "[0, 3, 6, 9, 0, 3, 6, 9]\n",
      "[0, 9, 3, 6]\n"
     ]
    }
   ],
   "source": [
    "list1 = list(range(0,10,3))*2\n",
    "print(list1)\n",
    "list1 = list(set(list1))\n",
    "print(list1)"
   ]
  },
  {
   "cell_type": "markdown",
   "id": "b7a7c71c-6ac8-4b2a-8cae-bae55af54267",
   "metadata": {},
   "source": [
    "## 2.8. Интерфейс объекта: операции и методы"
   ]
  },
  {
   "cell_type": "markdown",
   "id": "fa0aab15-7de5-4adc-9156-202cf8800f6b",
   "metadata": {},
   "source": [
    "*Примеры вызова методов count и index:*"
   ]
  },
  {
   "cell_type": "markdown",
   "id": "3c896837-2b09-4625-b5fe-16cc4e4b9b16",
   "metadata": {},
   "source": [
    "***1) Списки***(поддерживают `count` и `index`)"
   ]
  },
  {
   "cell_type": "code",
   "execution_count": 74,
   "id": "a6d6e38a-51c3-4c0f-91dd-6c0ec428cd94",
   "metadata": {},
   "outputs": [
    {
     "name": "stdout",
     "output_type": "stream",
     "text": [
      "3\n",
      "0\n"
     ]
    }
   ],
   "source": [
    "list = [1,2,3,4,6,2,3,5,7,1,8,2]\n",
    "\n",
    "print(list.count(2)) \n",
    "print(list.index(1))  "
   ]
  },
  {
   "cell_type": "markdown",
   "id": "c5d7c369-faa9-45d2-8ee8-f021b8d9e643",
   "metadata": {},
   "source": [
    "***2) Строки***(поддерживают `count` и `index`)"
   ]
  },
  {
   "cell_type": "code",
   "execution_count": 77,
   "id": "801d72d1-5bc6-41fd-8227-d8ec02a30013",
   "metadata": {},
   "outputs": [
    {
     "name": "stdout",
     "output_type": "stream",
     "text": [
      "1\n",
      "1\n"
     ]
    }
   ],
   "source": [
    "string = \"helo everynyan\"\n",
    "\n",
    "print(string.count('l')) \n",
    "print(string.index('e')) "
   ]
  },
  {
   "cell_type": "markdown",
   "id": "38cc4c4a-fb20-45b2-a6da-d56558c2ffde",
   "metadata": {},
   "source": [
    "***3) Кортежи***(поддерживают `count` и `index`)"
   ]
  },
  {
   "cell_type": "code",
   "execution_count": 80,
   "id": "5dc23288-8475-47a7-bb24-7baf5966ead6",
   "metadata": {},
   "outputs": [
    {
     "name": "stdout",
     "output_type": "stream",
     "text": [
      "2\n",
      "1\n"
     ]
    }
   ],
   "source": [
    "tuple = (1, 2, 3, 4, 5, 2, 4, 1)\n",
    "\n",
    "print(tuple.count(2))  \n",
    "print(tuple.index(2)) "
   ]
  },
  {
   "cell_type": "markdown",
   "id": "4dfb2d65-bdee-47e7-a2eb-4aac355a0302",
   "metadata": {},
   "source": [
    "***4) Множества***(не поддерживают `count` и `index`)"
   ]
  },
  {
   "cell_type": "code",
   "execution_count": 83,
   "id": "54483497-b15a-44f9-90d5-68f6651b6ac9",
   "metadata": {},
   "outputs": [
    {
     "ename": "AttributeError",
     "evalue": "'set' object has no attribute 'count'",
     "output_type": "error",
     "traceback": [
      "\u001b[1;31m---------------------------------------------------------------------------\u001b[0m",
      "\u001b[1;31mAttributeError\u001b[0m                            Traceback (most recent call last)",
      "Cell \u001b[1;32mIn[83], line 3\u001b[0m\n\u001b[0;32m      1\u001b[0m \u001b[38;5;28mset\u001b[39m \u001b[38;5;241m=\u001b[39m {\u001b[38;5;241m1\u001b[39m, \u001b[38;5;241m2\u001b[39m, \u001b[38;5;241m3\u001b[39m, \u001b[38;5;241m2\u001b[39m, \u001b[38;5;241m4\u001b[39m, \u001b[38;5;241m2\u001b[39m}\n\u001b[1;32m----> 3\u001b[0m \u001b[38;5;28mprint\u001b[39m(\u001b[38;5;28mset\u001b[39m\u001b[38;5;241m.\u001b[39mcount(\u001b[38;5;241m2\u001b[39m)) \n\u001b[0;32m      4\u001b[0m \u001b[38;5;28mprint\u001b[39m(\u001b[38;5;28mset\u001b[39m\u001b[38;5;241m.\u001b[39mindex(\u001b[38;5;241m2\u001b[39m))\n",
      "\u001b[1;31mAttributeError\u001b[0m: 'set' object has no attribute 'count'"
     ]
    }
   ],
   "source": [
    "set = {1, 2, 3, 2, 4, 2}\n",
    "\n",
    "print(set.count(2)) \n",
    "print(set.index(2)) "
   ]
  },
  {
   "cell_type": "markdown",
   "id": "f9900696-a9f9-437d-b221-be1a9e35d095",
   "metadata": {},
   "source": [
    "***5) Словари***(не поддерживают `count` и `index`)"
   ]
  },
  {
   "cell_type": "code",
   "execution_count": 86,
   "id": "2d131c1f-ed22-479d-a3a7-b13fc5e8ffac",
   "metadata": {},
   "outputs": [
    {
     "ename": "AttributeError",
     "evalue": "'dict' object has no attribute 'count'",
     "output_type": "error",
     "traceback": [
      "\u001b[1;31m---------------------------------------------------------------------------\u001b[0m",
      "\u001b[1;31mAttributeError\u001b[0m                            Traceback (most recent call last)",
      "Cell \u001b[1;32mIn[86], line 3\u001b[0m\n\u001b[0;32m      1\u001b[0m \u001b[38;5;28mdict\u001b[39m \u001b[38;5;241m=\u001b[39m {\u001b[38;5;124m'\u001b[39m\u001b[38;5;124ma\u001b[39m\u001b[38;5;124m'\u001b[39m: \u001b[38;5;241m1\u001b[39m, \u001b[38;5;124m'\u001b[39m\u001b[38;5;124mb\u001b[39m\u001b[38;5;124m'\u001b[39m: \u001b[38;5;241m2\u001b[39m, \u001b[38;5;124m'\u001b[39m\u001b[38;5;124mc\u001b[39m\u001b[38;5;124m'\u001b[39m: \u001b[38;5;241m3\u001b[39m, \u001b[38;5;124m'\u001b[39m\u001b[38;5;124md\u001b[39m\u001b[38;5;124m'\u001b[39m: \u001b[38;5;241m2\u001b[39m}\n\u001b[1;32m----> 3\u001b[0m \u001b[38;5;28mprint\u001b[39m(\u001b[38;5;28mdict\u001b[39m\u001b[38;5;241m.\u001b[39mcount(\u001b[38;5;124m'\u001b[39m\u001b[38;5;124md\u001b[39m\u001b[38;5;124m'\u001b[39m)) \n\u001b[0;32m      4\u001b[0m \u001b[38;5;28mprint\u001b[39m(\u001b[38;5;28mdict\u001b[39m\u001b[38;5;241m.\u001b[39mindex(\u001b[38;5;124m'\u001b[39m\u001b[38;5;124mb\u001b[39m\u001b[38;5;124m'\u001b[39m))\n",
      "\u001b[1;31mAttributeError\u001b[0m: 'dict' object has no attribute 'count'"
     ]
    }
   ],
   "source": [
    "dict = {'a': 1, 'b': 2, 'c': 3, 'd': 2}\n",
    "\n",
    "print(dict.count('d')) \n",
    "print(dict.index('b'))  "
   ]
  },
  {
   "cell_type": "markdown",
   "id": "ab170923-79a9-4069-8c7b-8c18638c96c0",
   "metadata": {},
   "source": [
    "*Пример выражения, в котором для заданной строки последовательно применены три различных строковых метода:*"
   ]
  },
  {
   "cell_type": "code",
   "execution_count": 89,
   "id": "f6ebadbd-85e8-4925-96af-e40bb983ab5f",
   "metadata": {},
   "outputs": [
    {
     "name": "stdout",
     "output_type": "stream",
     "text": [
      "neskvik and beer\n"
     ]
    }
   ],
   "source": [
    "text = \"Neskvik and milk \"\n",
    "result = text.strip().lower().replace(\"milk\",\"beer\")\n",
    "print(result) "
   ]
  },
  {
   "cell_type": "markdown",
   "id": "6fa73204-fdf8-4fc6-8d97-bcb0562fb8f4",
   "metadata": {},
   "source": [
    "`strip():`\n",
    "Удаляет пробельные символыс начала и конца строки. Если строка начинается или заканчивается одним или несколькими пробельными символами, метод strip() удаляет их, оставляя только основную часть строки.\n",
    "`lower():`\n",
    "Переводит все заглавные буквы в строчные, оставляя все остальные символы без изменений.\n",
    "`replace(old, new):`\n",
    "Ищет все вхождения указанной подстроки old и заменяет их на указанную подстроку new. Если искомая подстрока отсутствует, возвращается оригинальная строка."
   ]
  },
  {
   "cell_type": "markdown",
   "id": "805f0427-b3ae-45a2-b007-22040eab9016",
   "metadata": {},
   "source": [
    "*Примеры добавления элемента в список:*"
   ]
  },
  {
   "cell_type": "markdown",
   "id": "a57010c5-ea1b-4537-a888-05dd2362c479",
   "metadata": {},
   "source": [
    "`1) append`"
   ]
  },
  {
   "cell_type": "code",
   "execution_count": 94,
   "id": "9c5f8896-1646-4d93-8075-0c48b3f1ab5b",
   "metadata": {},
   "outputs": [
    {
     "name": "stdout",
     "output_type": "stream",
     "text": [
      "['a', 'b', 'c', 'd']\n"
     ]
    }
   ],
   "source": [
    "list= ['a', 'b', 'c']   \n",
    "list.append('d')\n",
    "print(list)"
   ]
  },
  {
   "cell_type": "markdown",
   "id": "2d1a7798-deb8-4821-af92-35df09ce4acd",
   "metadata": {},
   "source": [
    "`2) insert`"
   ]
  },
  {
   "cell_type": "code",
   "execution_count": 97,
   "id": "c7b9c9b5-a7f9-4008-8c72-1d0f422fa912",
   "metadata": {},
   "outputs": [
    {
     "name": "stdout",
     "output_type": "stream",
     "text": [
      "['z', 'a', 'b', 'c']\n"
     ]
    }
   ],
   "source": [
    "list = ['a', 'b', 'c']     \n",
    "list.insert(0, 'z') \n",
    "print(list)"
   ]
  },
  {
   "cell_type": "markdown",
   "id": "4017e993-6988-40f1-b9b6-f503f2a0367e",
   "metadata": {},
   "source": [
    "`3)extend`"
   ]
  },
  {
   "cell_type": "code",
   "execution_count": 100,
   "id": "9d291af5-ac27-4b4f-b549-2c19bfe28694",
   "metadata": {},
   "outputs": [
    {
     "name": "stdout",
     "output_type": "stream",
     "text": [
      "['a', 'b', 'c', 'd', 'z']\n"
     ]
    }
   ],
   "source": [
    "list = ['a', 'b', 'c']  \n",
    "list.extend(['d','z'])\n",
    "print(list)"
   ]
  },
  {
   "cell_type": "markdown",
   "id": "a37d4dec-596a-4b24-a919-a8c9237f930c",
   "metadata": {},
   "source": [
    "*Пример сортировки списка с использованием метода `sort` и\n",
    "заданного аргумента `key`*"
   ]
  },
  {
   "cell_type": "code",
   "execution_count": 103,
   "id": "2bd3a9f0-9e64-4844-ace7-9e14028cbf63",
   "metadata": {},
   "outputs": [
    {
     "name": "stdout",
     "output_type": "stream",
     "text": [
      "['milk', 'apple', 'banana']\n"
     ]
    }
   ],
   "source": [
    "words = [\"apple\", \"banana\", \"milk\"]\n",
    "words.sort(key=len)\n",
    "print(words) "
   ]
  },
  {
   "cell_type": "markdown",
   "id": "33e2066b-499c-4f91-8067-a56728a74c10",
   "metadata": {},
   "source": [
    "Исходный список oтсортируем по возрастанию длины. Функция len() применяется к каждому слову в списке, чтобы определить его длину.В результате слова сортируются по возрастанию длины."
   ]
  },
  {
   "cell_type": "code",
   "execution_count": 106,
   "id": "fd7fbe03-b1d8-4dbe-9c99-bfee2d57b643",
   "metadata": {},
   "outputs": [
    {
     "name": "stdout",
     "output_type": "stream",
     "text": [
      "[1, 2, 3, 5, 8, 9]\n"
     ]
    }
   ],
   "source": [
    "numbers = [8, 3, 9, 1, 5, 2]\n",
    "numbers.sort()\n",
    "print(numbers)"
   ]
  },
  {
   "cell_type": "markdown",
   "id": "1f69f01b-af8c-4c5a-9d7e-53a2c74b0bd2",
   "metadata": {},
   "source": [
    "\n",
    " По умолчанию метод sort() сортирует числа в порядке возрастания, так как числа уже имеют естественный порядок."
   ]
  },
  {
   "cell_type": "markdown",
   "id": "376ff1da-1fb5-4a3d-95a5-50e2ea2698f3",
   "metadata": {},
   "source": [
    "*Словарь из 100 элементов с одинаковыми значениями:*"
   ]
  },
  {
   "cell_type": "code",
   "execution_count": 110,
   "id": "c5521038-31d9-46b5-8145-a11e5db90c01",
   "metadata": {},
   "outputs": [
    {
     "name": "stdout",
     "output_type": "stream",
     "text": [
      "{1: 'i love cats', 2: 'i love cats', 3: 'i love cats', 4: 'i love cats', 5: 'i love cats', 6: 'i love cats', 7: 'i love cats', 8: 'i love cats', 9: 'i love cats', 10: 'i love cats', 11: 'i love cats', 12: 'i love cats', 13: 'i love cats', 14: 'i love cats', 15: 'i love cats', 16: 'i love cats', 17: 'i love cats', 18: 'i love cats', 19: 'i love cats', 20: 'i love cats', 21: 'i love cats', 22: 'i love cats', 23: 'i love cats', 24: 'i love cats', 25: 'i love cats', 26: 'i love cats', 27: 'i love cats', 28: 'i love cats', 29: 'i love cats', 30: 'i love cats', 31: 'i love cats', 32: 'i love cats', 33: 'i love cats', 34: 'i love cats', 35: 'i love cats', 36: 'i love cats', 37: 'i love cats', 38: 'i love cats', 39: 'i love cats', 40: 'i love cats', 41: 'i love cats', 42: 'i love cats', 43: 'i love cats', 44: 'i love cats', 45: 'i love cats', 46: 'i love cats', 47: 'i love cats', 48: 'i love cats', 49: 'i love cats', 50: 'i love cats', 51: 'i love cats', 52: 'i love cats', 53: 'i love cats', 54: 'i love cats', 55: 'i love cats', 56: 'i love cats', 57: 'i love cats', 58: 'i love cats', 59: 'i love cats', 60: 'i love cats', 61: 'i love cats', 62: 'i love cats', 63: 'i love cats', 64: 'i love cats', 65: 'i love cats', 66: 'i love cats', 67: 'i love cats', 68: 'i love cats', 69: 'i love cats', 70: 'i love cats', 71: 'i love cats', 72: 'i love cats', 73: 'i love cats', 74: 'i love cats', 75: 'i love cats', 76: 'i love cats', 77: 'i love cats', 78: 'i love cats', 79: 'i love cats', 80: 'i love cats', 81: 'i love cats', 82: 'i love cats', 83: 'i love cats', 84: 'i love cats', 85: 'i love cats', 86: 'i love cats', 87: 'i love cats', 88: 'i love cats', 89: 'i love cats', 90: 'i love cats', 91: 'i love cats', 92: 'i love cats', 93: 'i love cats', 94: 'i love cats', 95: 'i love cats', 96: 'i love cats', 97: 'i love cats', 98: 'i love cats', 99: 'i love cats', 100: 'i love cats'}\n"
     ]
    }
   ],
   "source": [
    "dictionary = dict.fromkeys(range(1, 101), \"i love cats\")\n",
    "print(dictionary)"
   ]
  },
  {
   "cell_type": "markdown",
   "id": "424b9f97-2b0f-466f-b45e-6d079462d778",
   "metadata": {},
   "source": [
    "## 2.9 Переменная"
   ]
  },
  {
   "cell_type": "markdown",
   "id": "5f929541-0e69-42e3-a753-a8cbe3490f0b",
   "metadata": {},
   "source": [
    "*Примеры циклического объекта для различных встроенных типов:*"
   ]
  },
  {
   "cell_type": "markdown",
   "id": "f32adf2e-8f83-4621-bc96-53a989767881",
   "metadata": {},
   "source": [
    "***1) Списки***"
   ]
  },
  {
   "cell_type": "code",
   "execution_count": 115,
   "id": "99a4b4e0-3eed-480c-a0c1-1a7c7628aa33",
   "metadata": {},
   "outputs": [
    {
     "name": "stdout",
     "output_type": "stream",
     "text": [
      "[[...]]\n"
     ]
    }
   ],
   "source": [
    "list = []\n",
    "list.append(list) \n",
    "print(list)       "
   ]
  },
  {
   "cell_type": "markdown",
   "id": "1d593169-397f-458e-b9b6-ed9ca70f9a55",
   "metadata": {},
   "source": [
    "***2) Кортежи***(т.к они неизменяемы, то могут содержать ссылки на сами себя напрямую. Но можно создать вложенный кортеж, который будет ссылаться на внешний кортеж:)"
   ]
  },
  {
   "cell_type": "code",
   "execution_count": 118,
   "id": "e657d4e0-fd06-443b-b9e6-6a0c1738116b",
   "metadata": {},
   "outputs": [
    {
     "name": "stdout",
     "output_type": "stream",
     "text": [
      "((),)\n"
     ]
    }
   ],
   "source": [
    "tuple = ()\n",
    "nested_tuple = (tuple,)\n",
    "tuple += nested_tuple \n",
    "print(tuple)         "
   ]
  },
  {
   "cell_type": "markdown",
   "id": "23932934-7c8d-4010-9c96-ee30448a91fb",
   "metadata": {},
   "source": [
    "***3) Словари***"
   ]
  },
  {
   "cell_type": "code",
   "execution_count": 121,
   "id": "f7c6a251-091e-4a4a-9dfe-95028b2e0a7e",
   "metadata": {},
   "outputs": [
    {
     "name": "stdout",
     "output_type": "stream",
     "text": [
      "{'this': {...}}\n"
     ]
    }
   ],
   "source": [
    "dict = {}\n",
    "dict['this'] = dict \n",
    "print(dict)        "
   ]
  },
  {
   "cell_type": "markdown",
   "id": "6d81d1d0-cbf6-49fe-9b97-4eb507f1b081",
   "metadata": {},
   "source": [
    "***4) Строки***"
   ]
  },
  {
   "cell_type": "markdown",
   "id": "4a437639-7847-4f8e-a22e-1e5e46121e1e",
   "metadata": {},
   "source": [
    "Строки не могут содержать ссылки на сами себя, так как они неизменяемы и не поддерживают механизм ссылок"
   ]
  },
  {
   "cell_type": "markdown",
   "id": "d7a40807-4a46-4510-b3b3-f8cfbf6ffaf9",
   "metadata": {},
   "source": [
    "***5) Множества***"
   ]
  },
  {
   "cell_type": "markdown",
   "id": "81aec9b2-bb8c-4d06-a4b7-34bbd59b4077",
   "metadata": {},
   "source": [
    "Множества также не могут содержать ссылки на сами себя, так как они основаны на хэш-таблицах и требуют уникальности элементов"
   ]
  },
  {
   "cell_type": "markdown",
   "id": "07a413f3-4550-4329-8c22-ad4425c2a4ab",
   "metadata": {},
   "source": [
    "\n",
    "***6) Числа***"
   ]
  },
  {
   "cell_type": "code",
   "execution_count": 128,
   "id": "caa84925-e324-475c-8409-a581db38b28f",
   "metadata": {},
   "outputs": [
    {
     "data": {
      "text/plain": [
       "[1, 2, [...]]"
      ]
     },
     "execution_count": 128,
     "metadata": {},
     "output_type": "execute_result"
    }
   ],
   "source": [
    "a = [1,2]; a.append(a)\n",
    "a"
   ]
  },
  {
   "cell_type": "markdown",
   "id": "ce0701b5-00e3-43b6-8084-8a9cfd95977c",
   "metadata": {},
   "source": [
    "*Cоздание объекта, на который ссылаются четыре переменные:*"
   ]
  },
  {
   "cell_type": "code",
   "execution_count": 131,
   "id": "aef11211-af60-4aaf-9df7-79f132db049f",
   "metadata": {},
   "outputs": [
    {
     "data": {
      "text/plain": [
       "5"
      ]
     },
     "execution_count": 131,
     "metadata": {},
     "output_type": "execute_result"
    }
   ],
   "source": [
    "import sys\n",
    "a = b = c = d = [15]\n",
    "sys.getrefcount(a)"
   ]
  },
  {
   "cell_type": "markdown",
   "id": "6760a2a6-51ca-4f91-a22b-be8777190d9d",
   "metadata": {},
   "source": [
    "sys.getrefcount() возвращает количество ссылок на объект, включая дополнительную временную ссылку, созданную самой функцией getrefcount()"
   ]
  },
  {
   "cell_type": "markdown",
   "id": "25952a6a-e7af-45ca-9176-3cb1242df1e7",
   "metadata": {},
   "source": [
    "*Три различных способа копирования списка:*"
   ]
  },
  {
   "cell_type": "markdown",
   "id": "b39b4f27-1cab-4c75-b889-3f4f5cf1e918",
   "metadata": {},
   "source": [
    "***1) Copy***"
   ]
  },
  {
   "cell_type": "code",
   "execution_count": 136,
   "id": "139200b5-6a56-435a-b189-a96aacb4b456",
   "metadata": {},
   "outputs": [
    {
     "name": "stdout",
     "output_type": "stream",
     "text": [
      "[1, 2, 3]\n"
     ]
    }
   ],
   "source": [
    " a = [1,2,3]                    \n",
    " c = a.copy() \n",
    "print(c)"
   ]
  },
  {
   "cell_type": "markdown",
   "id": "23a4aee3-f290-4c1e-9b14-d6cdf1fc2084",
   "metadata": {},
   "source": [
    "***2)Срез всей последовательности***"
   ]
  },
  {
   "cell_type": "code",
   "execution_count": 139,
   "id": "27cd5874-a6f4-4c06-8780-653271999985",
   "metadata": {},
   "outputs": [
    {
     "name": "stdout",
     "output_type": "stream",
     "text": [
      "[1, 2, 3]\n"
     ]
    }
   ],
   "source": [
    "a = [1,2,3]\n",
    "c = a[:]\n",
    "print(c)"
   ]
  },
  {
   "cell_type": "markdown",
   "id": "682d32f4-5232-4869-8e07-55445fb22b4d",
   "metadata": {},
   "source": [
    "***3)C помощью вызова соответствующих функций-конструкторов***"
   ]
  },
  {
   "cell_type": "code",
   "execution_count": 142,
   "id": "0303fe75-3bd7-48dc-a0f4-324c5d2108a8",
   "metadata": {},
   "outputs": [
    {
     "name": "stdout",
     "output_type": "stream",
     "text": [
      "[1, 2, 3]\n"
     ]
    }
   ],
   "source": [
    "a = [1, 2, 3]\n",
    "c = a.__class__(a) \n",
    "print(c)"
   ]
  },
  {
   "cell_type": "markdown",
   "id": "20c634ca-80da-4ce0-9a54-1a34a4041e58",
   "metadata": {},
   "source": [
    "## 2.10 Выражение спискового включения"
   ]
  },
  {
   "cell_type": "markdown",
   "id": "14f1ad59-5371-4513-bf51-8b4a68f23807",
   "metadata": {},
   "source": [
    "*Примеры создания множества с использованием синтаксиса\n",
    "включения с условием:*"
   ]
  },
  {
   "cell_type": "code",
   "execution_count": 146,
   "id": "732f0357-70b8-441b-8354-a60c099ce77e",
   "metadata": {},
   "outputs": [
    {
     "name": "stdout",
     "output_type": "stream",
     "text": [
      "{9, 3, 6}\n"
     ]
    }
   ],
   "source": [
    "list = [1, 2, 3, 4, 5, 6, 7, 8, 9, 10]\n",
    "new_list = {x for x in list if x % 3 == 0}\n",
    "print(new_list)"
   ]
  },
  {
   "cell_type": "code",
   "execution_count": 148,
   "id": "e4ec3114-f095-44bd-bb32-b457a6f5a12a",
   "metadata": {},
   "outputs": [
    {
     "name": "stdout",
     "output_type": "stream",
     "text": [
      "{'banana', 'apple'}\n"
     ]
    }
   ],
   "source": [
    "string = [\"apple\", \"banana\", \"milk\", \"beer\", \"meat\"]\n",
    "mew_string = {s for s in string if len(s) > 4}\n",
    "print(mew_string)"
   ]
  },
  {
   "cell_type": "markdown",
   "id": "c6da5e8c-b950-4309-b570-570b7d1caff7",
   "metadata": {},
   "source": [
    "*Пример создания числовой матрицы размера 7 × 8 с использованием включений и с помощью `numpy`:*"
   ]
  },
  {
   "cell_type": "code",
   "execution_count": 151,
   "id": "75f0bbf9-9989-4872-a711-96f3a6d8cef7",
   "metadata": {},
   "outputs": [
    {
     "name": "stdout",
     "output_type": "stream",
     "text": [
      "[[0, 1, 2, 3, 4, 5, 6, 7], [0, 1, 2, 3, 4, 5, 6, 7], [0, 1, 2, 3, 4, 5, 6, 7], [0, 1, 2, 3, 4, 5, 6, 7], [0, 1, 2, 3, 4, 5, 6, 7], [0, 1, 2, 3, 4, 5, 6, 7], [0, 1, 2, 3, 4, 5, 6, 7]]\n"
     ]
    }
   ],
   "source": [
    "matrix = [[j for j in range(8)] for i in range(7)]\n",
    "print(matrix)"
   ]
  },
  {
   "cell_type": "code",
   "execution_count": 153,
   "id": "72040901-482c-42d1-9d96-9779f8013f69",
   "metadata": {},
   "outputs": [
    {
     "name": "stdout",
     "output_type": "stream",
     "text": [
      "[[ 1  2  3  4  5  6  7  8]\n",
      " [ 9 10 11 12 13 14 15 16]\n",
      " [17 18 19 20 21 22 23 24]\n",
      " [25 26 27 28 29 30 31 32]\n",
      " [33 34 35 36 37 38 39 40]\n",
      " [41 42 43 44 45 46 47 48]\n",
      " [49 50 51 52 53 54 55 56]]\n"
     ]
    }
   ],
   "source": [
    "import numpy as np\n",
    "matrix = np.arange(1, 57).reshape(7, 8)\n",
    "print(matrix)"
   ]
  },
  {
   "cell_type": "markdown",
   "id": "4587e319-b7ff-4295-94ac-8caa67b3b770",
   "metadata": {},
   "source": [
    "*Пример создания словаря с использованием синтаксиса включения с двумя уровнями вложенности:*"
   ]
  },
  {
   "cell_type": "code",
   "execution_count": 156,
   "id": "17b57210-bd52-4917-ae6e-a54c47213573",
   "metadata": {},
   "outputs": [
    {
     "name": "stdout",
     "output_type": "stream",
     "text": [
      "{1: {'square': 1, 'cube': 1}, 2: {'square': 4, 'cube': 8}}\n"
     ]
    }
   ],
   "source": [
    "squares_and_cubes = {num: {'square': num**2, 'cube': num**3} for num in range(1, 3)}\n",
    "print(squares_and_cubes)"
   ]
  },
  {
   "cell_type": "markdown",
   "id": "e86f47b8-7447-4352-b180-e496348a7bc1",
   "metadata": {},
   "source": [
    "## 2.11 Форматированный вывод строк"
   ]
  },
  {
   "cell_type": "markdown",
   "id": "fcd893cd-61fe-49ba-8a84-aa64d46dece0",
   "metadata": {},
   "source": [
    "***1)Форматированный вывод***"
   ]
  },
  {
   "cell_type": "code",
   "execution_count": 160,
   "id": "f1267a51-185e-4e27-9f51-b035c7e1d8fa",
   "metadata": {},
   "outputs": [
    {
     "name": "stdout",
     "output_type": "stream",
     "text": [
      "Умножив m=5.0 кг на ускорение свободного падения a=9.8 м/с², получим силу F = 49.00 Н.\n"
     ]
    }
   ],
   "source": [
    "m = 5.0  \n",
    "a = 9.8  \n",
    "print(f'Умножив {m=:.1f} кг на ускорение свободного падения {a=:.1f} м/с², получим силу F = {m*a:=.2f} Н.')"
   ]
  },
  {
   "cell_type": "markdown",
   "id": "234b1550-707b-4d20-9dda-9daa570b7718",
   "metadata": {},
   "source": [
    "***2)Бинарная операция %***"
   ]
  },
  {
   "cell_type": "code",
   "execution_count": 163,
   "id": "2d0cb981-152b-4eb8-ad96-da009a4ce8ff",
   "metadata": {},
   "outputs": [
    {
     "name": "stdout",
     "output_type": "stream",
     "text": [
      "Умножив 5.0 кг на ускорение свободного падения 9.8 м/с², получим силу F = 49.00 Н.\n"
     ]
    }
   ],
   "source": [
    "m = 5.0\n",
    "a = 9.8\n",
    "print('Умножив %.1f кг на ускорение свободного падения %.1f м/с², получим силу F = %.2f Н.' % (m, a, m * a))"
   ]
  },
  {
   "cell_type": "markdown",
   "id": "da9af44a-a5c8-4bf3-8654-eb75132480c1",
   "metadata": {},
   "source": [
    "***3)Метод .format()***"
   ]
  },
  {
   "cell_type": "code",
   "execution_count": 166,
   "id": "27a5f335-a4fe-47b7-af75-ed258e0d4235",
   "metadata": {},
   "outputs": [
    {
     "name": "stdout",
     "output_type": "stream",
     "text": [
      "Умножив 5.0 кг на ускорение свободного падения 9.8 м/с², получим силу F = 49.00 Н.\n"
     ]
    }
   ],
   "source": [
    "m = 5.0\n",
    "a = 9.8\n",
    "print('Умножив {:.1f} кг на ускорение свободного падения {:.1f} м/с², получим силу F = {:.2f} Н.'.format(m, a, m * a))"
   ]
  },
  {
   "cell_type": "markdown",
   "id": "28b2489d-1970-48a6-82e8-33ea490ee77d",
   "metadata": {},
   "source": [
    "- использование синтаксиса f’…{variable=:…}’, где variable – заданная переменная: `{m=:.1f}`, `{a=:.1f}`\n",
    "- использование синтаксиса f’…{expression=:…}’, где expression – заданное выражение: `{m*a:=.2f}`"
   ]
  },
  {
   "cell_type": "markdown",
   "id": "85694bae-e24b-43ee-ac59-1fe4463a972d",
   "metadata": {},
   "source": [
    "## 2.12 Файловый объект"
   ]
  },
  {
   "cell_type": "code",
   "execution_count": 265,
   "id": "267d13d3-4b77-46ec-9beb-434dc1d9cc7e",
   "metadata": {},
   "outputs": [
    {
     "name": "stdout",
     "output_type": "stream",
     "text": [
      "Мимо ристалищ, капищ,\n",
      "мимо храмов и баров,\n",
      "мимо шикарных кладбищ,\n",
      "мимо больших базаров,\n",
      "мира и горя мимо,\n",
      "мимо Мекки и Рима,\n",
      "синим солнцем палимы,\n",
      "идут по земле пилигримы.\n",
      "Увечны они, горбаты,\n",
      "голодны, полуодеты,\n",
      "глаза их полны заката,\n",
      "сердца их полны рассвета.\n",
      "За ними поют пустыни,\n",
      "вспыхивают зарницы,\n",
      "звезды горят над ними,\n",
      "и хрипло кричат им птицы:\n",
      "что мир останется прежним,\n",
      "да, останется прежним,\n",
      "ослепительно снежным,\n",
      "и сомнительно нежным,\n",
      "мир останется лживым,\n",
      "мир останется вечным,\n",
      "может быть, постижимым,\n",
      "но все-таки бесконечным.\n",
      "И, значит, не будет толка\n",
      "от веры в себя да в Бога.\n",
      "…И, значит, остались только\n",
      "иллюзия и дорога.\n",
      "И быть над землей закатам,\n",
      "и быть над землей рассветам.\n",
      "Удобрить ее солдатам.\n",
      "Одобрить ее поэтам.\n",
      "\n",
      "\n",
      "\n",
      "\n"
     ]
    }
   ],
   "source": [
    "file = open(r'C:\\Users\\arish\\source\\repos\\Functious\\Piligrimi.txt', 'r', encoding='utf-8')\n",
    "content = file.read()\n",
    "print(content)\n",
    "file.close()"
   ]
  },
  {
   "cell_type": "code",
   "execution_count": 269,
   "id": "4ca397c7-94c2-4ce9-90dc-94fc227bc821",
   "metadata": {},
   "outputs": [
    {
     "name": "stdout",
     "output_type": "stream",
     "text": [
      "\n",
      "Первая строка (readline):\n",
      "Мимо ристалищ, капищ,\n"
     ]
    }
   ],
   "source": [
    "file = open(r'C:\\Users\\arish\\source\\repos\\Functious\\Piligrimi.txt', 'r', encoding='utf-8')\n",
    "first_line = file.readline()\n",
    "print(\"\\nПервая строка (readline):\")\n",
    "print(first_line, end='')\n",
    "file.close()"
   ]
  },
  {
   "cell_type": "code",
   "execution_count": 271,
   "id": "f5fd4cd6-9994-42eb-b1b2-8320a806c2a6",
   "metadata": {},
   "outputs": [
    {
     "name": "stdout",
     "output_type": "stream",
     "text": [
      "\n",
      "Все строки (readlines):\n",
      "Мимо ристалищ, капищ,\n",
      "мимо храмов и баров,\n",
      "мимо шикарных кладбищ,\n",
      "мимо больших базаров,\n",
      "мира и горя мимо,\n",
      "мимо Мекки и Рима,\n",
      "синим солнцем палимы,\n",
      "идут по земле пилигримы.\n",
      "Увечны они, горбаты,\n",
      "голодны, полуодеты,\n",
      "глаза их полны заката,\n",
      "сердца их полны рассвета.\n",
      "За ними поют пустыни,\n",
      "вспыхивают зарницы,\n",
      "звезды горят над ними,\n",
      "и хрипло кричат им птицы:\n",
      "что мир останется прежним,\n",
      "да, останется прежним,\n",
      "ослепительно снежным,\n",
      "и сомнительно нежным,\n",
      "мир останется лживым,\n",
      "мир останется вечным,\n",
      "может быть, постижимым,\n",
      "но все-таки бесконечным.\n",
      "И, значит, не будет толка\n",
      "от веры в себя да в Бога.\n",
      "…И, значит, остались только\n",
      "иллюзия и дорога.\n",
      "И быть над землей закатам,\n",
      "и быть над землей рассветам.\n",
      "Удобрить ее солдатам.\n",
      "Одобрить ее поэтам.\n",
      "\n",
      "\n",
      "\n"
     ]
    }
   ],
   "source": [
    "file = open(r'C:\\Users\\arish\\source\\repos\\Functious\\Piligrimi.txt', 'r', encoding='utf-8')\n",
    "lines = file.readlines()\n",
    "print(\"\\nВсе строки (readlines):\")\n",
    "for line in lines:\n",
    "    print(line, end='')\n",
    "file.close()  "
   ]
  },
  {
   "cell_type": "code",
   "execution_count": 273,
   "id": "4ced30e7-e77d-44dd-9b4f-e4838ca722c9",
   "metadata": {},
   "outputs": [
    {
     "name": "stdout",
     "output_type": "stream",
     "text": [
      "\n",
      "Добавлена строка с помощью write.\n"
     ]
    }
   ],
   "source": [
    "file = open(r'C:\\Users\\arish\\source\\repos\\Functious\\Piligrimi.txt', 'a', encoding='utf-8')\n",
    "file.write(\"\\nИосиф Бродский1.\\n\")\n",
    "print(\"\\nДобавлена строка с помощью write.\")\n",
    "file.close()  "
   ]
  },
  {
   "cell_type": "code",
   "execution_count": 275,
   "id": "654a23dd-ce3a-4694-9027-561c63583e2c",
   "metadata": {},
   "outputs": [
    {
     "name": "stdout",
     "output_type": "stream",
     "text": [
      "Добавлены строки с помощью writelines.\n"
     ]
    }
   ],
   "source": [
    "file = open(r'C:\\Users\\arish\\source\\repos\\Functious\\Piligrimi.txt', 'a', encoding='utf-8')\n",
    "new_lines = [\"Пилигримы.\\n\", \"1958 г..\\n\"]\n",
    "file.writelines(new_lines)\n",
    "print(\"Добавлены строки с помощью writelines.\")\n",
    "file.close() "
   ]
  },
  {
   "cell_type": "code",
   "execution_count": 277,
   "id": "2b894e6c-a096-4c4c-aaf0-74262ee287b1",
   "metadata": {},
   "outputs": [
    {
     "name": "stdout",
     "output_type": "stream",
     "text": [
      "\n",
      "Обновленное содержимое файла (read):\n",
      "Мимо ристалищ, капищ,\n",
      "мимо храмов и баров,\n",
      "мимо шикарных кладбищ,\n",
      "мимо больших базаров,\n",
      "мира и горя мимо,\n",
      "мимо Мекки и Рима,\n",
      "синим солнцем палимы,\n",
      "идут по земле пилигримы.\n",
      "Увечны они, горбаты,\n",
      "голодны, полуодеты,\n",
      "глаза их полны заката,\n",
      "сердца их полны рассвета.\n",
      "За ними поют пустыни,\n",
      "вспыхивают зарницы,\n",
      "звезды горят над ними,\n",
      "и хрипло кричат им птицы:\n",
      "что мир останется прежним,\n",
      "да, останется прежним,\n",
      "ослепительно снежным,\n",
      "и сомнительно нежным,\n",
      "мир останется лживым,\n",
      "мир останется вечным,\n",
      "может быть, постижимым,\n",
      "но все-таки бесконечным.\n",
      "И, значит, не будет толка\n",
      "от веры в себя да в Бога.\n",
      "…И, значит, остались только\n",
      "иллюзия и дорога.\n",
      "И быть над землей закатам,\n",
      "и быть над землей рассветам.\n",
      "Удобрить ее солдатам.\n",
      "Одобрить ее поэтам.\n",
      "\n",
      "\n",
      "\n",
      "\n",
      "Иосиф Бродский1.\n",
      "Пилигримы.\n",
      "1958 г..\n",
      "\n"
     ]
    }
   ],
   "source": [
    "file = open(r'C:\\Users\\arish\\source\\repos\\Functious\\Piligrimi.txt', 'r', encoding='utf-8')\n",
    "updated_content = file.read()\n",
    "print(\"\\nОбновленное содержимое файла (read):\")\n",
    "print(updated_content)\n",
    "file.close() "
   ]
  },
  {
   "cell_type": "markdown",
   "id": "44f1bc39-6212-4073-8e7b-34c243d1108b",
   "metadata": {},
   "source": [
    "## Задание 2.3"
   ]
  },
  {
   "cell_type": "markdown",
   "id": "5a0ce84b-ec7c-4f49-811f-e95dfb239ba1",
   "metadata": {},
   "source": [
    "*1 ошибка*"
   ]
  },
  {
   "cell_type": "code",
   "execution_count": 282,
   "id": "b742bd67-b632-49fc-937b-21178189ace4",
   "metadata": {},
   "outputs": [
    {
     "name": "stdout",
     "output_type": "stream",
     "text": [
      "\\c Æ\n"
     ]
    },
    {
     "name": "stderr",
     "output_type": "stream",
     "text": [
      "<>:1: SyntaxWarning: invalid escape sequence '\\c'\n",
      "<>:1: SyntaxWarning: invalid escape sequence '\\c'\n",
      "C:\\Users\\arish\\AppData\\Local\\Temp\\ipykernel_6792\\1155648579.py:1: SyntaxWarning: invalid escape sequence '\\c'\n",
      "  print('\\c \\xc6')\n"
     ]
    }
   ],
   "source": [
    "print('\\c \\xc6')"
   ]
  },
  {
   "cell_type": "markdown",
   "id": "032fe7fc-bc81-4401-a91d-9d6df7399511",
   "metadata": {},
   "source": [
    "Ошибка появляется потому что питон не распознает символ `c` после \\ в качестве допустимого управляющего кода.Нужно использовать raw-строку"
   ]
  },
  {
   "cell_type": "code",
   "execution_count": 288,
   "id": "7aba0761-1129-4acb-b638-16a812dcfc5f",
   "metadata": {},
   "outputs": [
    {
     "name": "stdout",
     "output_type": "stream",
     "text": [
      "\\c \\xc6\n"
     ]
    }
   ],
   "source": [
    "print(r'\\c \\xc6')"
   ]
  },
  {
   "cell_type": "markdown",
   "id": "6c970361-43bd-40fd-b6a4-ad4d0b12077a",
   "metadata": {},
   "source": [
    "*2 ошибка*"
   ]
  },
  {
   "cell_type": "code",
   "execution_count": 293,
   "id": "8bd858cf-f1a5-4299-82a2-3a533e903304",
   "metadata": {},
   "outputs": [
    {
     "ename": "IndexError",
     "evalue": "string index out of range",
     "output_type": "error",
     "traceback": [
      "\u001b[1;31m---------------------------------------------------------------------------\u001b[0m",
      "\u001b[1;31mIndexError\u001b[0m                                Traceback (most recent call last)",
      "Cell \u001b[1;32mIn[293], line 3\u001b[0m\n\u001b[0;32m      1\u001b[0m str1\u001b[38;5;241m=\u001b[39m \u001b[38;5;124m'\u001b[39m\u001b[38;5;124mString\u001b[39m\u001b[38;5;124m'\u001b[39m\n\u001b[1;32m----> 3\u001b[0m str1[\u001b[38;5;241m10\u001b[39m]\n",
      "\u001b[1;31mIndexError\u001b[0m: string index out of range"
     ]
    }
   ],
   "source": [
    "str1= 'String'\n",
    "str1[10]"
   ]
  },
  {
   "cell_type": "markdown",
   "id": "cdabfd50-751a-4d53-a361-28ecb0e9675f",
   "metadata": {},
   "source": [
    "Индекс 10 выходит за пределы строки.Можно заполнить строку до нужной длины, указать существующий индекс или написать вывод об ошибке"
   ]
  },
  {
   "cell_type": "code",
   "execution_count": 295,
   "id": "2de0f490-fab4-40b4-942c-e7f08ad76b43",
   "metadata": {},
   "outputs": [
    {
     "name": "stdout",
     "output_type": "stream",
     "text": [
      "Индекс 10 выходит за пределы строки\n"
     ]
    }
   ],
   "source": [
    "str1 = 'String'\n",
    "index = 10\n",
    "\n",
    "try:\n",
    "    print(str1[index])\n",
    "except IndexError:\n",
    "    print(f\"Индекс {index} выходит за пределы строки\")"
   ]
  },
  {
   "cell_type": "markdown",
   "id": "bfd49c1e-064f-4a06-b64d-ea24f6deead3",
   "metadata": {},
   "source": [
    "*3 ошибка*"
   ]
  },
  {
   "cell_type": "code",
   "execution_count": 301,
   "id": "8a8a8275-047e-47bd-a108-980fed9a2408",
   "metadata": {},
   "outputs": [
    {
     "ename": "TypeError",
     "evalue": "can only concatenate list (not \"str\") to list",
     "output_type": "error",
     "traceback": [
      "\u001b[1;31m---------------------------------------------------------------------------\u001b[0m",
      "\u001b[1;31mTypeError\u001b[0m                                 Traceback (most recent call last)",
      "Cell \u001b[1;32mIn[301], line 1\u001b[0m\n\u001b[1;32m----> 1\u001b[0m [\u001b[38;5;241m1\u001b[39m] \u001b[38;5;241m+\u001b[39m \u001b[38;5;124m'\u001b[39m\u001b[38;5;124m1\u001b[39m\u001b[38;5;124m'\u001b[39m\n",
      "\u001b[1;31mTypeError\u001b[0m: can only concatenate list (not \"str\") to list"
     ]
    }
   ],
   "source": [
    "[1] + '1'"
   ]
  },
  {
   "cell_type": "markdown",
   "id": "62aa724b-4ce8-4674-80b1-a9e8efc6df16",
   "metadata": {},
   "source": [
    "В выражении с операцией сложения + для последовательностей в качестве операндов могут быть использованы только объекты одного и того же типа. Нельзя\n",
    "использовать последовательности различных типов в операции сложения + из-за строгой типизации объектов в Python."
   ]
  },
  {
   "cell_type": "code",
   "execution_count": 309,
   "id": "bac5c983-3354-4a8f-80bc-94b17b2dac02",
   "metadata": {},
   "outputs": [
    {
     "data": {
      "text/plain": [
       "[1, 1]"
      ]
     },
     "execution_count": 309,
     "metadata": {},
     "output_type": "execute_result"
    }
   ],
   "source": [
    "[1] + [1] #одного типа"
   ]
  },
  {
   "cell_type": "code",
   "execution_count": 311,
   "id": "bc8eec2d-d868-4356-9b6c-ae39e517617f",
   "metadata": {},
   "outputs": [
    {
     "data": {
      "text/plain": [
       "'11'"
      ]
     },
     "execution_count": 311,
     "metadata": {},
     "output_type": "execute_result"
    }
   ],
   "source": [
    "'1'+'1' #одного типа"
   ]
  },
  {
   "cell_type": "markdown",
   "id": "e47e314c-04f4-4d6b-bcec-19b0d4c91a12",
   "metadata": {},
   "source": [
    "*4 ошибка*"
   ]
  },
  {
   "cell_type": "code",
   "execution_count": 314,
   "id": "880dbd77-fdcd-483e-8b87-ba9b63d75012",
   "metadata": {},
   "outputs": [
    {
     "ename": "NameError",
     "evalue": "name 'dict1' is not defined",
     "output_type": "error",
     "traceback": [
      "\u001b[1;31m---------------------------------------------------------------------------\u001b[0m",
      "\u001b[1;31mNameError\u001b[0m                                 Traceback (most recent call last)",
      "Cell \u001b[1;32mIn[314], line 1\u001b[0m\n\u001b[1;32m----> 1\u001b[0m dict1[\u001b[38;5;124m'\u001b[39m\u001b[38;5;124mtwo\u001b[39m\u001b[38;5;124m'\u001b[39m]\n",
      "\u001b[1;31mNameError\u001b[0m: name 'dict1' is not defined"
     ]
    }
   ],
   "source": [
    "dict1['two']"
   ]
  },
  {
   "cell_type": "markdown",
   "id": "d8ff6f98-0f4a-4c18-807f-29d939af9138",
   "metadata": {},
   "source": [
    "Ошибка возникает, потому что  ключ 'two' отсутствует в словаре dict1. Перед обращением к ключу можно проверить, существует ли он в словаре:"
   ]
  },
  {
   "cell_type": "code",
   "execution_count": 316,
   "id": "fb71e48d-554d-4d6a-9ffd-ffdc6be63017",
   "metadata": {},
   "outputs": [
    {
     "name": "stdout",
     "output_type": "stream",
     "text": [
      "Ключа 'two' нет в словаре\n"
     ]
    }
   ],
   "source": [
    "dict1 = {'one': 1, 'three': 3}\n",
    "if 'two' in dict1:\n",
    "    print(dict1['two'])\n",
    "else:\n",
    "    print(\"Ключа 'two' нет в словаре\")"
   ]
  },
  {
   "cell_type": "markdown",
   "id": "e4b4f9f6-2be7-418a-9794-b1521cc678ef",
   "metadata": {},
   "source": [
    "*5 ошибка*"
   ]
  },
  {
   "cell_type": "code",
   "execution_count": 319,
   "id": "41502da2-dce2-4a75-9f4f-c922954140e3",
   "metadata": {},
   "outputs": [
    {
     "ename": "TypeError",
     "evalue": "'tuple' object does not support item assignment",
     "output_type": "error",
     "traceback": [
      "\u001b[1;31m---------------------------------------------------------------------------\u001b[0m",
      "\u001b[1;31mTypeError\u001b[0m                                 Traceback (most recent call last)",
      "Cell \u001b[1;32mIn[319], line 1\u001b[0m\n\u001b[1;32m----> 1\u001b[0m t \u001b[38;5;241m=\u001b[39m [\u001b[38;5;241m1\u001b[39m,\u001b[38;5;241m2\u001b[39m], {\u001b[38;5;241m1\u001b[39m:\u001b[38;5;241m2\u001b[39m}, {\u001b[38;5;241m1\u001b[39m,\u001b[38;5;241m2\u001b[39m}; t[\u001b[38;5;241m0\u001b[39m] \u001b[38;5;241m=\u001b[39m \u001b[38;5;241m0\u001b[39m\n",
      "\u001b[1;31mTypeError\u001b[0m: 'tuple' object does not support item assignment"
     ]
    }
   ],
   "source": [
    "t = [1,2], {1:2}, {1,2}; \n",
    "t[0] = 0"
   ]
  },
  {
   "cell_type": "markdown",
   "id": "0d9d0a85-a027-4400-b181-0a273fef5786",
   "metadata": {},
   "source": [
    "Кортеж является неизменяемым типом данных, поэтому мы не можем изменить его элементы после создания. Можно использовать список вместо кортежа "
   ]
  },
  {
   "cell_type": "code",
   "execution_count": 327,
   "id": "a849c80e-2d47-410c-b253-40899fd9cce8",
   "metadata": {},
   "outputs": [
    {
     "name": "stdout",
     "output_type": "stream",
     "text": [
      "[0, {1: 2}, {1, 2}]\n"
     ]
    }
   ],
   "source": [
    "t = [[1, 2], {1: 2}, {1, 2}]  \n",
    "t[0] = 0 \n",
    "print(t)  "
   ]
  },
  {
   "cell_type": "markdown",
   "id": "12406c45-e3ad-44e1-b146-e2d6e82f367e",
   "metadata": {},
   "source": [
    "*6 ошибка*"
   ]
  },
  {
   "cell_type": "code",
   "execution_count": 336,
   "id": "0d6bf3ad-b3f6-42eb-bd30-dbac9ce21248",
   "metadata": {},
   "outputs": [
    {
     "ename": "TypeError",
     "evalue": "unhashable type: 'list'",
     "output_type": "error",
     "traceback": [
      "\u001b[1;31m---------------------------------------------------------------------------\u001b[0m",
      "\u001b[1;31mTypeError\u001b[0m                                 Traceback (most recent call last)",
      "Cell \u001b[1;32mIn[336], line 1\u001b[0m\n\u001b[1;32m----> 1\u001b[0m {\u001b[38;5;241m1\u001b[39m, \u001b[38;5;124m'\u001b[39m\u001b[38;5;124mstr\u001b[39m\u001b[38;5;124m'\u001b[39m, (\u001b[38;5;241m1\u001b[39m,)}\u001b[38;5;241m.\u001b[39madd([\u001b[38;5;241m1\u001b[39m])\n",
      "\u001b[1;31mTypeError\u001b[0m: unhashable type: 'list'"
     ]
    }
   ],
   "source": [
    "{1, 'str', (1,)}.add([1])"
   ]
  },
  {
   "cell_type": "markdown",
   "id": "ab049209-a12b-4048-bbc5-8443070c0be2",
   "metadata": {},
   "source": [
    "Элементами множества могут являться только объекты неизменяемых типов: число, строка, кортеж. "
   ]
  },
  {
   "cell_type": "markdown",
   "id": "cbe77323-98df-4bb1-a225-71c5a6fac8b0",
   "metadata": {},
   "source": [
    "*7 ошибка*"
   ]
  },
  {
   "cell_type": "code",
   "execution_count": 347,
   "id": "351f2ccc-60f6-4a7f-88dc-51a01e4821f3",
   "metadata": {},
   "outputs": [
    {
     "ename": "TypeError",
     "evalue": "'dict' object is not callable",
     "output_type": "error",
     "traceback": [
      "\u001b[1;31m---------------------------------------------------------------------------\u001b[0m",
      "\u001b[1;31mTypeError\u001b[0m                                 Traceback (most recent call last)",
      "Cell \u001b[1;32mIn[347], line 1\u001b[0m\n\u001b[1;32m----> 1\u001b[0m dict1 \u001b[38;5;241m=\u001b[39m \u001b[38;5;28mdict\u001b[39m(one\u001b[38;5;241m=\u001b[39m\u001b[38;5;241m1\u001b[39m, two\u001b[38;5;241m=\u001b[39m\u001b[38;5;241m2\u001b[39m)\n\u001b[0;32m      2\u001b[0m dict1\u001b[38;5;241m.\u001b[39mkeys(), dict1\u001b[38;5;241m.\u001b[39mvalues(), dict1\u001b[38;5;241m.\u001b[39mitems()\n\u001b[0;32m      4\u001b[0m \u001b[38;5;28mprint\u001b[39m(dict1\u001b[38;5;241m.\u001b[39mget(\u001b[38;5;124m'\u001b[39m\u001b[38;5;124mone\u001b[39m\u001b[38;5;124m'\u001b[39m), dict1\u001b[38;5;241m.\u001b[39mget(\u001b[38;5;124m'\u001b[39m\u001b[38;5;124mthree\u001b[39m\u001b[38;5;124m'\u001b[39m))\n",
      "\u001b[1;31mTypeError\u001b[0m: 'dict' object is not callable"
     ]
    }
   ],
   "source": [
    "dict1 = dict(one=1, two=2)\n",
    "dict1.keys(), dict1.values(), dict1.items()\n",
    "print(dict1.get('one'), dict1.get('three'))\n",
    "dict1['three']"
   ]
  },
  {
   "cell_type": "markdown",
   "id": "f4801f2c-dc8c-4590-af41-2dbe5abc2b40",
   "metadata": {},
   "source": [
    "Ключ отсутствует в словаре"
   ]
  },
  {
   "cell_type": "markdown",
   "id": "a8a172c1-653c-4335-add2-ffa4d919cbff",
   "metadata": {},
   "source": [
    "*8 ошибка*"
   ]
  },
  {
   "cell_type": "code",
   "execution_count": 355,
   "id": "672aff28-3028-4fd5-87b6-5f64e3b343f4",
   "metadata": {},
   "outputs": [
    {
     "name": "stdout",
     "output_type": "stream",
     "text": [
      "string -1\n"
     ]
    }
   ],
   "source": [
    "s='string'\n",
    "print(s, s.find('-'))"
   ]
  },
  {
   "cell_type": "code",
   "execution_count": 357,
   "id": "4f121e0d-7ff2-43b3-82e9-66d90422a596",
   "metadata": {},
   "outputs": [
    {
     "ename": "ValueError",
     "evalue": "substring not found",
     "output_type": "error",
     "traceback": [
      "\u001b[1;31m---------------------------------------------------------------------------\u001b[0m",
      "\u001b[1;31mValueError\u001b[0m                                Traceback (most recent call last)",
      "Cell \u001b[1;32mIn[357], line 1\u001b[0m\n\u001b[1;32m----> 1\u001b[0m s\u001b[38;5;241m.\u001b[39mindex(\u001b[38;5;124m'\u001b[39m\u001b[38;5;124m-\u001b[39m\u001b[38;5;124m'\u001b[39m)\n",
      "\u001b[1;31mValueError\u001b[0m: substring not found"
     ]
    }
   ],
   "source": [
    "s.index('-')"
   ]
  },
  {
   "cell_type": "markdown",
   "id": "0854b45f-a64b-46a8-a121-987ed756b2ed",
   "metadata": {},
   "source": [
    "Результаты выполнения методов find и index отличаются в случае, когда искомая подстрока отсутствует в строке. Метод find возвращает -1, если подстрока не найдена, а метод index вызывает ошибку "
   ]
  },
  {
   "cell_type": "markdown",
   "id": "72b34973-08a0-4cf3-b2a9-e0a89021a0ca",
   "metadata": {},
   "source": [
    "*9 ошибка*"
   ]
  },
  {
   "cell_type": "code",
   "execution_count": 368,
   "id": "9213c15a-5da1-451f-bd5d-6fd3edfa6897",
   "metadata": {},
   "outputs": [
    {
     "ename": "NameError",
     "evalue": "name 'z' is not defined",
     "output_type": "error",
     "traceback": [
      "\u001b[1;31m---------------------------------------------------------------------------\u001b[0m",
      "\u001b[1;31mNameError\u001b[0m                                 Traceback (most recent call last)",
      "Cell \u001b[1;32mIn[368], line 2\u001b[0m\n\u001b[0;32m      1\u001b[0m a \u001b[38;5;241m=\u001b[39m \u001b[38;5;241m1\u001b[39m \u001b[38;5;66;03m# создание переменной\u001b[39;00m\n\u001b[1;32m----> 2\u001b[0m a, z\n",
      "\u001b[1;31mNameError\u001b[0m: name 'z' is not defined"
     ]
    }
   ],
   "source": [
    "a = 1 \n",
    "a, z"
   ]
  },
  {
   "cell_type": "markdown",
   "id": "34daae75-f167-4b88-bc9f-7bf4b691acdd",
   "metadata": {},
   "source": [
    "Использование переменной до того, как ей было присвоено значение, всегда приведет к ошибке. Сначала присваеваем переменной хначение , потом используем"
   ]
  },
  {
   "cell_type": "code",
   "execution_count": 371,
   "id": "99a6305e-bc64-4424-891d-d767368061da",
   "metadata": {},
   "outputs": [
    {
     "data": {
      "text/plain": [
       "(1, 2)"
      ]
     },
     "execution_count": 371,
     "metadata": {},
     "output_type": "execute_result"
    }
   ],
   "source": [
    "z=2\n",
    "a,z"
   ]
  },
  {
   "cell_type": "markdown",
   "id": "94c1e1a0-2276-416a-9fe5-3ba6c7eea3d8",
   "metadata": {},
   "source": [
    "*10 ошибка*"
   ]
  },
  {
   "cell_type": "code",
   "execution_count": 376,
   "id": "eec4d6f4-4483-4bab-8095-22f346b870cf",
   "metadata": {},
   "outputs": [
    {
     "name": "stdout",
     "output_type": "stream",
     "text": [
      "1\n"
     ]
    },
    {
     "ename": "TypeError",
     "evalue": "'int' object is not callable",
     "output_type": "error",
     "traceback": [
      "\u001b[1;31m---------------------------------------------------------------------------\u001b[0m",
      "\u001b[1;31mTypeError\u001b[0m                                 Traceback (most recent call last)",
      "Cell \u001b[1;32mIn[376], line 3\u001b[0m\n\u001b[0;32m      1\u001b[0m \u001b[38;5;28mprint\u001b[39m(\u001b[38;5;28mabs\u001b[39m(\u001b[38;5;241m-\u001b[39m\u001b[38;5;241m1\u001b[39m))\n\u001b[0;32m      2\u001b[0m \u001b[38;5;28mabs\u001b[39m \u001b[38;5;241m=\u001b[39m \u001b[38;5;241m5\u001b[39m\n\u001b[1;32m----> 3\u001b[0m \u001b[38;5;28mprint\u001b[39m(\u001b[38;5;28mabs\u001b[39m(\u001b[38;5;241m-\u001b[39m\u001b[38;5;241m1\u001b[39m))\n",
      "\u001b[1;31mTypeError\u001b[0m: 'int' object is not callable"
     ]
    }
   ],
   "source": [
    "print(abs(-1))\n",
    "abs = 5\n",
    "print(abs(-1))"
   ]
  },
  {
   "cell_type": "markdown",
   "id": "66636f3d-9d9a-4ae0-833b-91ad53069d4d",
   "metadata": {},
   "source": [
    "Зарезервированные имена нельзя использовать в качестве имен переменных."
   ]
  },
  {
   "cell_type": "markdown",
   "id": "67dc4ec4-4be0-4f29-ad20-429a20682c35",
   "metadata": {},
   "source": [
    "## Задание 3"
   ]
  },
  {
   "cell_type": "markdown",
   "id": "1c1049e3-1574-4d4d-aaf1-1b12684f5ed2",
   "metadata": {},
   "source": [
    "***Ответы на контрольные вопросы из книги М. Лутца***"
   ]
  },
  {
   "cell_type": "markdown",
   "id": "8ca5f7fc-8571-4c90-961b-fc31beb5e87f",
   "metadata": {},
   "source": [
    "**Глава 4**"
   ]
  },
  {
   "cell_type": "markdown",
   "id": "d3b4eb58-8333-4c0a-ae3a-67128a872b8a",
   "metadata": {},
   "source": [
    "*1. Назовите четыре основных типа данных Python.*"
   ]
  },
  {
   "cell_type": "markdown",
   "id": "f42b432c-e980-458f-862b-2e3a95e485cf",
   "metadata": {},
   "source": [
    "В Python существует множество типов данных, но из четырех основных типов можно назвать:"
   ]
  },
  {
   "cell_type": "markdown",
   "id": "f310e25a-0f8d-4b11-a79c-c8dd32484a50",
   "metadata": {},
   "source": [
    "1)Числа"
   ]
  },
  {
   "cell_type": "code",
   "execution_count": null,
   "id": "9086f894-bdc7-4437-8cde-b9a16e4cd6d6",
   "metadata": {},
   "outputs": [],
   "source": [
    "a = 5          # int\n",
    "b = 3.14       # float\n",
    "c = 2 + 4j     # complex"
   ]
  },
  {
   "cell_type": "markdown",
   "id": "64279e7c-b134-44d0-8ab2-1ff55645b02f",
   "metadata": {},
   "source": [
    "2)Списки"
   ]
  },
  {
   "cell_type": "code",
   "execution_count": 388,
   "id": "75d3b875-b87e-4e14-a4bf-08e731456e27",
   "metadata": {},
   "outputs": [],
   "source": [
    "list = [1, 3.14, 'cat']"
   ]
  },
  {
   "cell_type": "markdown",
   "id": "200fac24-759e-403c-bfee-3c83c85ef812",
   "metadata": {},
   "source": [
    "3)Строки"
   ]
  },
  {
   "cell_type": "code",
   "execution_count": 392,
   "id": "f036dce7-e0c8-4792-8c6a-3be56d5b595d",
   "metadata": {},
   "outputs": [],
   "source": [
    "str = \"Neskvik s pivom\""
   ]
  },
  {
   "cell_type": "markdown",
   "id": "8689d7d6-d83e-4ec1-81ff-651c509f476b",
   "metadata": {},
   "source": [
    "4)Словари"
   ]
  },
  {
   "cell_type": "code",
   "execution_count": 395,
   "id": "0fb426cb-1930-41fa-b830-f87b924b7c23",
   "metadata": {},
   "outputs": [],
   "source": [
    "dict = {\"name\": \"Vlad\", \"age\": 25}"
   ]
  },
  {
   "cell_type": "markdown",
   "id": "a4d83489-4344-4721-baa6-aca375df0053",
   "metadata": {},
   "source": [
    "*2. Почему они называются “основными” типами данных?*"
   ]
  },
  {
   "cell_type": "markdown",
   "id": "28a3d660-6057-41c7-8490-81fac63dbd67",
   "metadata": {},
   "source": [
    "Эти типы данных используются практически в каждой программе на Python. Они являются фундаментальными для решения большинства задач:Числа используются для математических операций, строки — для работы с текстом, списки и словари — для хранения и обработки коллекций данных. Так же эти типы данных встроены в Python и не требуют дополнительных библиотек или модулей для использования."
   ]
  },
  {
   "cell_type": "markdown",
   "id": "0ef05185-db5f-4cee-8f67-50b721f0776e",
   "metadata": {},
   "source": [
    "*3. Что означает “неизменяемость”, и какие три основных типа Python считаются неизменяемыми?*"
   ]
  },
  {
   "cell_type": "markdown",
   "id": "92da4f5a-b386-454d-b8b4-eb94923204a7",
   "metadata": {},
   "source": [
    "Если вы попытаетесь изменить неизменяемый объект, то будет создан новый объект с новым значением, а старый останется неизменным.\n",
    "Неизменяемыми обьектами являются : `Числа`, `строки`, `кортежи`:"
   ]
  },
  {
   "cell_type": "code",
   "execution_count": 405,
   "id": "e3e0a012-cc3d-4518-93b0-b4d0fd429759",
   "metadata": {},
   "outputs": [
    {
     "name": "stdout",
     "output_type": "stream",
     "text": [
      "2\n"
     ]
    }
   ],
   "source": [
    "a=1\n",
    "a=2\n",
    "print(a)"
   ]
  },
  {
   "cell_type": "code",
   "execution_count": 427,
   "id": "e3e992b0-d280-4ecd-a0af-36a929b988ea",
   "metadata": {},
   "outputs": [
    {
     "ename": "TypeError",
     "evalue": "'str' object does not support item assignment",
     "output_type": "error",
     "traceback": [
      "\u001b[1;31m---------------------------------------------------------------------------\u001b[0m",
      "\u001b[1;31mTypeError\u001b[0m                                 Traceback (most recent call last)",
      "Cell \u001b[1;32mIn[427], line 2\u001b[0m\n\u001b[0;32m      1\u001b[0m s \u001b[38;5;241m=\u001b[39m \u001b[38;5;124m\"\u001b[39m\u001b[38;5;124mword\u001b[39m\u001b[38;5;124m\"\u001b[39m\n\u001b[1;32m----> 2\u001b[0m s[\u001b[38;5;241m0\u001b[39m] \u001b[38;5;241m=\u001b[39m \u001b[38;5;124m'\u001b[39m\u001b[38;5;124mA\u001b[39m\u001b[38;5;124m'\u001b[39m\n",
      "\u001b[1;31mTypeError\u001b[0m: 'str' object does not support item assignment"
     ]
    }
   ],
   "source": [
    "s = \"word\"\n",
    "s[0] = 'A' "
   ]
  },
  {
   "cell_type": "code",
   "execution_count": 429,
   "id": "39f0579d-1973-439c-b692-5fd3a7179d49",
   "metadata": {},
   "outputs": [
    {
     "name": "stdout",
     "output_type": "stream",
     "text": [
      "word and loose\n"
     ]
    }
   ],
   "source": [
    "s = s + \" and loose\"\n",
    "print(s)"
   ]
  },
  {
   "cell_type": "code",
   "execution_count": 431,
   "id": "6b9ba99e-04e5-4d8d-95c2-1f8f11d5a98f",
   "metadata": {},
   "outputs": [
    {
     "ename": "TypeError",
     "evalue": "'tuple' object does not support item assignment",
     "output_type": "error",
     "traceback": [
      "\u001b[1;31m---------------------------------------------------------------------------\u001b[0m",
      "\u001b[1;31mTypeError\u001b[0m                                 Traceback (most recent call last)",
      "Cell \u001b[1;32mIn[431], line 2\u001b[0m\n\u001b[0;32m      1\u001b[0m t \u001b[38;5;241m=\u001b[39m (\u001b[38;5;241m1\u001b[39m, \u001b[38;5;241m2\u001b[39m, \u001b[38;5;241m3\u001b[39m)\n\u001b[1;32m----> 2\u001b[0m t[\u001b[38;5;241m0\u001b[39m] \u001b[38;5;241m=\u001b[39m \u001b[38;5;241m10\u001b[39m\n",
      "\u001b[1;31mTypeError\u001b[0m: 'tuple' object does not support item assignment"
     ]
    }
   ],
   "source": [
    "t = (1, 2, 3)\n",
    "t[0] = 10  "
   ]
  },
  {
   "cell_type": "code",
   "execution_count": 433,
   "id": "277435c9-440f-4285-ac41-c40355e617b8",
   "metadata": {},
   "outputs": [
    {
     "name": "stdout",
     "output_type": "stream",
     "text": [
      "(1, 2, 3, 4)\n"
     ]
    }
   ],
   "source": [
    "t = t + (4,)\n",
    "print(t)"
   ]
  },
  {
   "cell_type": "markdown",
   "id": "f527727a-85e8-471d-901a-b6a0c7d9585a",
   "metadata": {},
   "source": [
    "*4. Что означает “последовательность”, и какие три типа входят в эту категорию?*"
   ]
  },
  {
   "cell_type": "markdown",
   "id": "2c2f33b1-6ad4-4e91-bb03-56dc71b9c847",
   "metadata": {},
   "source": [
    "Последовательность — позиционно упорядоченная коллекциея других объектов. Сюда входят `Списки`, `Строки`, `Кортежи`"
   ]
  },
  {
   "cell_type": "markdown",
   "id": "7a518875-948f-4a37-bd7e-f2da8b6eaecf",
   "metadata": {},
   "source": [
    "*5. Что означает “отображение”, и какой основной тип является отображением?*"
   ]
  },
  {
   "cell_type": "markdown",
   "id": "a67fd731-11cd-4548-a549-094ee27f795f",
   "metadata": {},
   "source": [
    "Отображения представляют собой коллекции других объектов, но они хранят объекты по ключам, а не по относительным позициям.`Словарь`- основной тип является отображения."
   ]
  },
  {
   "cell_type": "markdown",
   "id": "d0294754-596a-4850-8775-7d7214310c46",
   "metadata": {},
   "source": [
    "*6. Что такое “полиморфизм” и почему о нем нужно заботиться?*"
   ]
  },
  {
   "cell_type": "markdown",
   "id": "338047f3-7c11-4322-b3ed-9c5d7daa4c71",
   "metadata": {},
   "source": [
    "Полиморфизм — это концепция, которая позволяет использовать один интерфейс для работы с разными типами данных или объектами.Он делает код более гибким и вляется важной частью объектно-ориентированного программирования и помогает создавать более чистый и модульный код."
   ]
  },
  {
   "cell_type": "code",
   "execution_count": 445,
   "id": "6ed65dd8-b327-4711-90ab-ff590fc5b2db",
   "metadata": {},
   "outputs": [
    {
     "name": "stdout",
     "output_type": "stream",
     "text": [
      "5\n",
      "Make, tea\n"
     ]
    }
   ],
   "source": [
    "def add(a, b):\n",
    "    return a + b\n",
    "\n",
    "print(add(2, 3))  \n",
    "print(add(\"Make, \", \"tea\")) "
   ]
  },
  {
   "cell_type": "markdown",
   "id": "9823e5dc-1d42-405f-a040-8725e3d97e9f",
   "metadata": {},
   "source": [
    "**Глава 5**"
   ]
  },
  {
   "cell_type": "markdown",
   "id": "8c38c0ea-176c-4b82-b514-893f9bad06a4",
   "metadata": {},
   "source": [
    "*1. Каким будет значение выражения 2 * (3 + 4) в Python?\n",
    "  2. Каким будет значение выражения 2 * 3 + 4 в Python?\n",
    "  3. Каким будет значение выражения 2 + 3 * 4 в Python?*"
   ]
  },
  {
   "cell_type": "code",
   "execution_count": 452,
   "id": "351999f9-226c-4fa9-b2ff-c868e18926a8",
   "metadata": {},
   "outputs": [
    {
     "name": "stdout",
     "output_type": "stream",
     "text": [
      "14\n",
      "10\n",
      "14\n"
     ]
    }
   ],
   "source": [
    "print(2 * (3 + 4))\n",
    "print(2 * 3 + 4)\n",
    "print(2 + 3 * 4)"
   ]
  },
  {
   "cell_type": "markdown",
   "id": "b483dd79-43f7-4b1f-b1e2-10afc0e89a21",
   "metadata": {},
   "source": [
    "*4) Какие инструменты можно использовать для нахождения квадратного корня и квадрата числа?*"
   ]
  },
  {
   "cell_type": "markdown",
   "id": "96b69442-668c-44e5-8b4d-88bdac76eb3b",
   "metadata": {},
   "source": [
    "Квадрат числа можно найти с помощью `**` или функции `pow()`"
   ]
  },
  {
   "cell_type": "code",
   "execution_count": 461,
   "id": "8221c828-ced6-4489-8fc3-7adfe2d3499b",
   "metadata": {},
   "outputs": [
    {
     "name": "stdout",
     "output_type": "stream",
     "text": [
      "25\n",
      "25\n"
     ]
    }
   ],
   "source": [
    "a1 = 5 ** 2\n",
    "print(a1)  \n",
    "\n",
    "a2 = pow(5, 2)\n",
    "print(a2)  "
   ]
  },
  {
   "cell_type": "markdown",
   "id": "502e47d1-3cb0-4230-a2e6-7b80749a29ec",
   "metadata": {},
   "source": [
    "Квадратный корень можно найти с помощью:\n",
    "Оператора `**` (в степень 0.5) , функции `pow()` (в степень 0.5) , функции `math.sqrt()` из модуля math.\n"
   ]
  },
  {
   "cell_type": "code",
   "execution_count": 464,
   "id": "491166ad-e187-47f9-aecb-1801c622a3c6",
   "metadata": {},
   "outputs": [
    {
     "name": "stdout",
     "output_type": "stream",
     "text": [
      "5.0\n",
      "5.0\n",
      "5.0\n"
     ]
    }
   ],
   "source": [
    "import math\n",
    "\n",
    "b1 = 25 ** 0.5\n",
    "print(b1) \n",
    "\n",
    "b2 = math.sqrt(25)\n",
    "print(b2) \n",
    "\n",
    "b3 = pow(25, 0.5)\n",
    "print(b3) "
   ]
  },
  {
   "cell_type": "markdown",
   "id": "78cec477-bd87-46bb-8af8-6355b274f132",
   "metadata": {},
   "source": [
    "Для массива чисел можно использовать библиотеку `numpy`"
   ]
  },
  {
   "cell_type": "code",
   "execution_count": 471,
   "id": "478d26cf-6a5d-43da-80bf-9c643ed129a2",
   "metadata": {},
   "outputs": [
    {
     "name": "stdout",
     "output_type": "stream",
     "text": [
      "25\n",
      "5.0\n"
     ]
    }
   ],
   "source": [
    "import numpy as np\n",
    "\n",
    "square_np = np.square(5)\n",
    "print(square_np)  \n",
    "\n",
    "sqrt_np = np.sqrt(25)\n",
    "print(sqrt_np) "
   ]
  },
  {
   "cell_type": "markdown",
   "id": "97f07a40-af1f-4d6b-9541-79f6eba67713",
   "metadata": {},
   "source": [
    "*5. Каким будет тип результата выражения 1 + 2.0 + 3?*"
   ]
  },
  {
   "cell_type": "code",
   "execution_count": 481,
   "id": "e6fab41a-196e-4278-96a2-dc3843143594",
   "metadata": {},
   "outputs": [
    {
     "name": "stdout",
     "output_type": "stream",
     "text": [
      "6.0\n",
      "<class 'float'>\n"
     ]
    }
   ],
   "source": [
    "x=1+ 2.0 +3\n",
    "print(x)\n",
    "print (type(x))"
   ]
  },
  {
   "cell_type": "markdown",
   "id": "bd1d20aa-38b3-4553-a816-b2a0625c46ec",
   "metadata": {},
   "source": [
    "*6. Как можно усекать и округлять число с плавающей точкой?*"
   ]
  },
  {
   "cell_type": "markdown",
   "id": "2748f27a-db77-4285-8c7c-eab497925019",
   "metadata": {},
   "source": [
    "Усечение : функции `int (N)` и `math, trune (N)`, а округление — функция `round (N, digits)`"
   ]
  },
  {
   "cell_type": "code",
   "execution_count": 486,
   "id": "a969a35a-a6e3-4ec7-b072-d67271be8d48",
   "metadata": {},
   "outputs": [
    {
     "name": "stdout",
     "output_type": "stream",
     "text": [
      "3\n",
      "3\n"
     ]
    }
   ],
   "source": [
    "import math\n",
    "x = 3.14\n",
    "\n",
    "r1 = math.trunc(x)\n",
    "print(r1)  \n",
    "\n",
    "r2 = int(x)\n",
    "print(r2)"
   ]
  },
  {
   "cell_type": "code",
   "execution_count": 488,
   "id": "ee6765bc-9e31-43e6-837d-e77d97a13334",
   "metadata": {},
   "outputs": [
    {
     "name": "stdout",
     "output_type": "stream",
     "text": [
      "3\n"
     ]
    }
   ],
   "source": [
    "print(round(x))"
   ]
  },
  {
   "cell_type": "markdown",
   "id": "a2d6a0e3-a417-43c2-a91e-14784b143b66",
   "metadata": {},
   "source": [
    "*7.Как можно преобразовывать целое число в число с плавающей точкой?*"
   ]
  },
  {
   "cell_type": "markdown",
   "id": "d8fd6231-41ee-447c-a8d1-9d850afc5cec",
   "metadata": {},
   "source": [
    "Функция `float()`"
   ]
  },
  {
   "cell_type": "code",
   "execution_count": 496,
   "id": "ef6ff1f4-8716-458d-8729-7aa49274b8d7",
   "metadata": {},
   "outputs": [
    {
     "name": "stdout",
     "output_type": "stream",
     "text": [
      "<class 'int'>\n",
      "<class 'float'>\n"
     ]
    }
   ],
   "source": [
    "n=5\n",
    "print(type(n))\n",
    "n= float(n)\n",
    "print(type(n))"
   ]
  },
  {
   "cell_type": "markdown",
   "id": "881697b0-6045-4438-b8ef-68925c5881b2",
   "metadata": {},
   "source": [
    "*8. Как можно отображать целое число в восьмеричной, шестнадцатеричной или двоичной форме?*"
   ]
  },
  {
   "cell_type": "markdown",
   "id": "91c2f76d-c1be-4b79-9a9e-b4c2b34d0c55",
   "metadata": {},
   "source": [
    "Восьмеричная система: `oct(x)`, шестнадцатеричная система: `hex(x)`, двоичная система: `bin(x)`,форматированиe  строк `%` и строковый метод `format`"
   ]
  },
  {
   "cell_type": "code",
   "execution_count": 501,
   "id": "465306d9-acbe-4a60-bb56-840acbe14eed",
   "metadata": {},
   "outputs": [
    {
     "name": "stdout",
     "output_type": "stream",
     "text": [
      "0o12\n",
      "0xa\n",
      "0b1010\n",
      "12\n",
      "a\n",
      "1010\n",
      "12\n",
      "a\n",
      "1010\n"
     ]
    }
   ],
   "source": [
    "h=10\n",
    "print(oct(h))\n",
    "print(hex(h))\n",
    "print(bin(h))\n",
    "\n",
    "print(f\"{h:o}\")  \n",
    "print(f\"{h:x}\")  \n",
    "print(f\"{h:b}\")  \n",
    "\n",
    "\n",
    "print(\"{:o}\".format(h))  \n",
    "print(\"{:x}\".format(h))  \n",
    "print(\"{:b}\".format(h))  \n"
   ]
  },
  {
   "cell_type": "markdown",
   "id": "be0dbc69-598a-418c-843b-3a1803fbabb4",
   "metadata": {},
   "source": [
    "*9. Как можно преобразовывать строку восьмеричных, шестнадцатеричных или двоичных цифр в простое целое число?*"
   ]
  },
  {
   "cell_type": "markdown",
   "id": "8d3009d9-293f-441d-81c4-8d5e12fdad98",
   "metadata": {},
   "source": [
    "Функция `int (S, base)` , функция `eval (S)`"
   ]
  },
  {
   "cell_type": "code",
   "execution_count": 506,
   "id": "610f48d7-c683-48df-b456-0e3961513606",
   "metadata": {},
   "outputs": [
    {
     "name": "stdout",
     "output_type": "stream",
     "text": [
      "42\n",
      "42\n",
      "42\n"
     ]
    }
   ],
   "source": [
    "octal_str = \"0o52\"\n",
    "integer1 = int(octal_str, 8)\n",
    "print(integer1)  \n",
    "\n",
    "hex_str = \"0x2a\"\n",
    "integer2 = int(hex_str, 16)\n",
    "print(integer2)  \n",
    "\n",
    "binary_str = \"0b101010\"\n",
    "integer3 = int(binary_str, 2)\n",
    "print(integer3)  "
   ]
  },
  {
   "cell_type": "code",
   "execution_count": 508,
   "id": "e6916e64-2788-457e-9cdd-c63caee53f03",
   "metadata": {},
   "outputs": [
    {
     "name": "stdout",
     "output_type": "stream",
     "text": [
      "42\n",
      "42\n",
      "42\n"
     ]
    }
   ],
   "source": [
    "octal_str = \"0o52\"\n",
    "integer1 = eval(octal_str)\n",
    "print(integer1)  \n",
    "\n",
    "hex_str = \"0x2a\"\n",
    "integer2 = eval(hex_str)\n",
    "print(integer2)  \n",
    "\n",
    "binary_str = \"0b101010\"\n",
    "integer3 = eval(binary_str)\n",
    "print(integer3) "
   ]
  },
  {
   "cell_type": "markdown",
   "id": "377dc519-ced9-4ac2-ba7c-99ef68da3827",
   "metadata": {},
   "source": [
    "**Глава 6**"
   ]
  },
  {
   "cell_type": "markdown",
   "id": "376911c8-e393-4903-b63f-46b0a9968cf7",
   "metadata": {},
   "source": [
    "*1. Взгляните на следующие три оператора. Изменяют ли они значение, выводимое для А?*"
   ]
  },
  {
   "cell_type": "code",
   "execution_count": 529,
   "id": "48414b24-5193-4ccd-aac1-010fd74076df",
   "metadata": {},
   "outputs": [
    {
     "name": "stdout",
     "output_type": "stream",
     "text": [
      "spam\n",
      "shrubbery\n"
     ]
    }
   ],
   "source": [
    "A = \"spam\"\n",
    "B = A\n",
    "B = \"shrubbery\"\n",
    "\n",
    "print(A)\n",
    "print(B)"
   ]
  },
  {
   "cell_type": "markdown",
   "id": "5bf7a15f-012e-40ab-bae3-feb97d3a4583",
   "metadata": {},
   "source": [
    "Изначально A и B указывали на один и тот же объект \"spam\", но в Python имена переменных не связываются друг с другом. Изменение одной переменной не влияет на другую, так как каждая переменная просто ссылается на свой объект. Таким образом, после присваивания B = \"shrubbery\", A по-прежнему указывает на \"spam\", а B — на \"shrubbery\""
   ]
  },
  {
   "cell_type": "markdown",
   "id": "72581e62-ddfb-4e3d-8d6c-53e293aec36b",
   "metadata": {},
   "source": [
    "*2. Взгляните на приведенные ниже три оператора. Изменяют ли они значение, выводимое для А?*"
   ]
  },
  {
   "cell_type": "code",
   "execution_count": 539,
   "id": "7735eaf0-d5dc-413e-94d0-9912bc419e2b",
   "metadata": {},
   "outputs": [
    {
     "name": "stdout",
     "output_type": "stream",
     "text": [
      "['shrubbery']\n",
      "['shrubbery']\n"
     ]
    }
   ],
   "source": [
    "A = [\"spam\"]\n",
    "B = A\n",
    "B[0] = \"shrubbery\"\n",
    "\n",
    "print(A)  \n",
    "print(B)  "
   ]
  },
  {
   "cell_type": "markdown",
   "id": "eac5875a-dfbb-4b2d-836f-881a96f25aff",
   "metadata": {},
   "source": [
    "Поскольку списки в Python являются изменяемыми объектами, изменение списка через одну переменную (B) отражается на другой переменной (A), если они ссылаются на один и тот же объект."
   ]
  },
  {
   "cell_type": "markdown",
   "id": "237b4eba-a475-47f9-a339-7fda4285976f",
   "metadata": {},
   "source": [
    "*3. Как насчет показанных далее трех операторов — изменяется ли А теперь?*"
   ]
  },
  {
   "cell_type": "code",
   "execution_count": 543,
   "id": "4921820b-3ae4-42b7-92ab-35d9021dbf97",
   "metadata": {},
   "outputs": [
    {
     "name": "stdout",
     "output_type": "stream",
     "text": [
      "['spam']\n",
      "['shrubbery']\n"
     ]
    }
   ],
   "source": [
    "A = [\"spam\"]\n",
    "B = A[:]\n",
    "B[0] = \"shrubbery\"\n",
    "\n",
    "print( A) \n",
    "print( B)  "
   ]
  },
  {
   "cell_type": "markdown",
   "id": "94af53f7-c8e6-4c69-b7ca-48c6f6f107ae",
   "metadata": {},
   "source": [
    "Нет, значение переменной A не изменяется, так как B ссылается на новый список, созданный с помощью среза A[:]. Изменения в B не влияют на A"
   ]
  },
  {
   "cell_type": "markdown",
   "id": "0cce1ec7-c94c-458e-ba2f-f2731e0bc2b2",
   "metadata": {},
   "source": [
    "**Глава 7**"
   ]
  },
  {
   "cell_type": "markdown",
   "id": "7a19f692-055e-4270-870a-e365dd0e8ee3",
   "metadata": {},
   "source": [
    "*1. Можно ли использовать строковый метод find для поиска в списке?*"
   ]
  },
  {
   "cell_type": "markdown",
   "id": "b05483e2-86dd-4595-a8a6-1a47eaaa9f28",
   "metadata": {},
   "source": [
    "Метод `find()` предназначен только для работы со строками и ищет подстроку в строке"
   ]
  },
  {
   "cell_type": "code",
   "execution_count": 551,
   "id": "68801055-9873-4ce0-939b-121495121e48",
   "metadata": {},
   "outputs": [
    {
     "ename": "AttributeError",
     "evalue": "'list' object has no attribute 'find'",
     "output_type": "error",
     "traceback": [
      "\u001b[1;31m---------------------------------------------------------------------------\u001b[0m",
      "\u001b[1;31mAttributeError\u001b[0m                            Traceback (most recent call last)",
      "Cell \u001b[1;32mIn[551], line 2\u001b[0m\n\u001b[0;32m      1\u001b[0m \u001b[38;5;28mlist\u001b[39m \u001b[38;5;241m=\u001b[39m [\u001b[38;5;241m1\u001b[39m,\u001b[38;5;241m2\u001b[39m,\u001b[38;5;241m3\u001b[39m]\n\u001b[1;32m----> 2\u001b[0m result \u001b[38;5;241m=\u001b[39m \u001b[38;5;28mlist\u001b[39m\u001b[38;5;241m.\u001b[39mfind(\u001b[38;5;241m2\u001b[39m)\n",
      "\u001b[1;31mAttributeError\u001b[0m: 'list' object has no attribute 'find'"
     ]
    }
   ],
   "source": [
    "list = [1,2,3]\n",
    "result = list.find(2)"
   ]
  },
  {
   "cell_type": "markdown",
   "id": "c9d27c19-6e21-4209-b887-d9f753516ca4",
   "metadata": {},
   "source": [
    "*4. Как бы вы могли изменить строку в Python?*"
   ]
  },
  {
   "cell_type": "markdown",
   "id": "7ce18133-9674-47be-aba3-fef1edb0fd08",
   "metadata": {},
   "source": [
    "Cтроки неизменяемы. Можно добиться похожего результата используя конкатенацию, методы строк, срезы, форматирование или преобразование в список"
   ]
  },
  {
   "cell_type": "code",
   "execution_count": 554,
   "id": "3a558634-8a48-461d-9b00-e91c6bb88fed",
   "metadata": {},
   "outputs": [
    {
     "name": "stdout",
     "output_type": "stream",
     "text": [
      "Pupalupa\n"
     ]
    }
   ],
   "source": [
    "s = \"Pupa\"\n",
    "s = s + \"lupa\"  \n",
    "print(s) "
   ]
  },
  {
   "cell_type": "code",
   "execution_count": 556,
   "id": "5a11f9a4-cb0e-4e92-b85c-b284a3271667",
   "metadata": {},
   "outputs": [
    {
     "name": "stdout",
     "output_type": "stream",
     "text": [
      "Pupa \n"
     ]
    }
   ],
   "source": [
    "s = \"Pupa lupa\"\n",
    "s = s[:5] \n",
    "print(s)"
   ]
  },
  {
   "cell_type": "markdown",
   "id": "ac253e7c-9081-4871-b047-3134b1fd3c4e",
   "metadata": {},
   "source": [
    "*6. Сколько символов имеется в строке \"a\\nb\\xlf\\000d\"?*"
   ]
  },
  {
   "cell_type": "code",
   "execution_count": 559,
   "id": "23b96b3a-48c2-465d-94b0-2d000a012cf9",
   "metadata": {},
   "outputs": [
    {
     "name": "stdout",
     "output_type": "stream",
     "text": [
      "6\n"
     ]
    }
   ],
   "source": [
    "s = \"a\\nb\\x1f\\000d\"\n",
    "print(len(s))  # Вывод: 6"
   ]
  },
  {
   "cell_type": "markdown",
   "id": "27602303-6d41-43c7-967c-d71ed915129a",
   "metadata": {},
   "source": [
    "*7. Почему вы использовали бы модуль string вместо вызова строковых методов?*"
   ]
  },
  {
   "cell_type": "markdown",
   "id": "b80c5a50-0494-4916-b793-728d8d96f661",
   "metadata": {},
   "source": [
    "Модуль string в Python используют ради констант и функций, которые могут быть полезны в некоторых ситуациях. "
   ]
  },
  {
   "cell_type": "code",
   "execution_count": 566,
   "id": "f2f98012-87bd-44b0-8d83-f4f2de9962aa",
   "metadata": {},
   "outputs": [
    {
     "name": "stdout",
     "output_type": "stream",
     "text": [
      "0123456789\n",
      "!\"#$%&'()*+,-./:;<=>?@[\\]^_`{|}~\n"
     ]
    }
   ],
   "source": [
    "import string\n",
    "\n",
    "print(string.digits)        \n",
    "print(string.punctuation)   "
   ]
  },
  {
   "cell_type": "markdown",
   "id": "d5361762-c286-43a3-88a5-7a2b70845390",
   "metadata": {},
   "source": [
    "Но для большинства повседневных задач строковые методы (например, str.upper(), str.replace()) используются чаще"
   ]
  },
  {
   "cell_type": "code",
   "execution_count": 568,
   "id": "1649620b-67ac-447d-aa25-a96a2c214566",
   "metadata": {},
   "outputs": [
    {
     "name": "stdout",
     "output_type": "stream",
     "text": [
      "HI, YOU\n",
      "hi, you\n"
     ]
    }
   ],
   "source": [
    "s = \"hi, YOU\"\n",
    "print(s.upper()) \n",
    "print(s.lower())  "
   ]
  },
  {
   "cell_type": "markdown",
   "id": "d86b2d8b-53ca-4340-84cc-cf422eea6c31",
   "metadata": {},
   "source": [
    "**Глава 8**"
   ]
  },
  {
   "cell_type": "markdown",
   "id": "93caf6dd-2b13-4646-b067-7b633c096909",
   "metadata": {},
   "source": [
    "*1. Назовите два способа построения списка, содержащего пять целочисленных нулей*"
   ]
  },
  {
   "cell_type": "markdown",
   "id": "a7381f42-9a18-44f9-ac0c-31924dfe7666",
   "metadata": {},
   "source": [
    "Cписковый литерал  и умножение списка:"
   ]
  },
  {
   "cell_type": "code",
   "execution_count": 573,
   "id": "3880dad9-96d8-488b-a12a-279a885d1f2b",
   "metadata": {},
   "outputs": [
    {
     "name": "stdout",
     "output_type": "stream",
     "text": [
      "[0, 0, 0, 0, 0]\n",
      "[0, 0, 0, 0, 0]\n"
     ]
    }
   ],
   "source": [
    "list1=[0,0,0,0,0]\n",
    "print(list1)\n",
    "\n",
    "list2 = [0]*5\n",
    "print(list2)"
   ]
  },
  {
   "cell_type": "markdown",
   "id": "327dc044-c50b-4415-b0e8-4daac5019226",
   "metadata": {},
   "source": [
    "*2. Назовите два способа построения словаря с двумя ключами, ’ а ’ и ’Ь’, с каждым из которых ассоциировано значение 0.*"
   ]
  },
  {
   "cell_type": "markdown",
   "id": "d8ad2227-9915-40a1-89ce-fd75b5303081",
   "metadata": {},
   "source": [
    "Использование литерального выражения и серия присваиваний"
   ]
  },
  {
   "cell_type": "code",
   "execution_count": 592,
   "id": "5c7334b5-2ec5-4748-8ca8-9ed331db4894",
   "metadata": {},
   "outputs": [
    {
     "name": "stdout",
     "output_type": "stream",
     "text": [
      "{'a': 0, 'b': 0}\n"
     ]
    }
   ],
   "source": [
    "dict1 = {'a': 0, 'b': 0}\n",
    "print(dict1) \n"
   ]
  },
  {
   "cell_type": "code",
   "execution_count": 602,
   "id": "3ff5cdcb-e9b1-45ae-b549-33f07fb0ea48",
   "metadata": {},
   "outputs": [
    {
     "name": "stdout",
     "output_type": "stream",
     "text": [
      "{'а': 0, 'b': 0}\n"
     ]
    }
   ],
   "source": [
    "dict2 = {}  \n",
    "dict2['а'] = 0  \n",
    "dict2['b'] = 0 \n",
    "print(dict2)  "
   ]
  },
  {
   "cell_type": "markdown",
   "id": "4cd7e9f4-2b65-4243-8e7a-139203f202e4",
   "metadata": {},
   "source": [
    "*3. Назовите четыре операции, которые изменяют списковый объект на месте*"
   ]
  },
  {
   "cell_type": "markdown",
   "id": "99317169-1c30-4cce-b501-86d98109ee9a",
   "metadata": {},
   "source": [
    "`append` `extend` `sort` `reverse` , еще можно впомнить `insert` `remove` `pop` `del`"
   ]
  },
  {
   "cell_type": "code",
   "execution_count": 609,
   "id": "77684343-bae1-42be-a270-69c4abac81dd",
   "metadata": {},
   "outputs": [
    {
     "name": "stdout",
     "output_type": "stream",
     "text": [
      "Начальный список: [3, 1, 4, 1, 5, 9]\n",
      "После append(2): [3, 1, 4, 1, 5, 9, 2]\n",
      "После extend([6, 5]): [3, 1, 4, 1, 5, 9, 2, 6, 5]\n",
      "После insert(2, 7): [3, 1, 7, 4, 1, 5, 9, 2, 6, 5]\n",
      "После remove(1): [3, 7, 4, 1, 5, 9, 2, 6, 5]\n",
      "После pop(3): [3, 7, 4, 5, 9, 2, 6, 5]\n",
      "Удаленный элемент: 1\n",
      "После del my_list[0]: [7, 4, 5, 9, 2, 6, 5]\n",
      "После sort(): [2, 4, 5, 5, 6, 7, 9]\n",
      "После reverse(): [9, 7, 6, 5, 5, 4, 2]\n"
     ]
    }
   ],
   "source": [
    "my_list = [3, 1, 4, 1, 5, 9]\n",
    "print(\"Начальный список:\", my_list) \n",
    "\n",
    "my_list.append(2)\n",
    "print(\"После append(2):\", my_list) \n",
    "\n",
    "my_list.extend([6, 5])\n",
    "print(\"После extend([6, 5]):\", my_list) \n",
    "\n",
    "my_list.insert(2, 7)\n",
    "print(\"После insert(2, 7):\", my_list)  \n",
    "\n",
    "my_list.remove(1)\n",
    "print(\"После remove(1):\", my_list)  \n",
    "\n",
    "pop_element = my_list.pop(3)\n",
    "print(\"После pop(3):\", my_list)  \n",
    "print(\"Удаленный элемент:\", pop_element)  \n",
    "\n",
    "del my_list[0]\n",
    "print(\"После del my_list[0]:\", my_list)\n",
    "\n",
    "my_list.sort()\n",
    "print(\"После sort():\", my_list) \n",
    "\n",
    "my_list.reverse()\n",
    "print(\"После reverse():\", my_list) "
   ]
  },
  {
   "cell_type": "markdown",
   "id": "f0a3bf77-5843-48b8-8c10-bfad891de66f",
   "metadata": {},
   "source": [
    "*4. Назовите четыре операции, которые изменяют словарный объект на месте*"
   ]
  },
  {
   "cell_type": "markdown",
   "id": "92246217-3ba2-4f4d-81a9-a312306d3268",
   "metadata": {},
   "source": [
    "Добавление или обновление элементов: Присваивание по ключу, `update()`; удаление элементов: `del`, `pop()`"
   ]
  },
  {
   "cell_type": "code",
   "execution_count": 623,
   "id": "b01a366b-7435-4027-ae99-b977f613a369",
   "metadata": {},
   "outputs": [
    {
     "name": "stdout",
     "output_type": "stream",
     "text": [
      "{'a': 10, 'b': 2, 'c': 3}\n"
     ]
    }
   ],
   "source": [
    "dict1 = {'a': 1, 'b': 2}\n",
    "\n",
    "dict1['c'] = 3 \n",
    "dict1['a'] = 10 \n",
    "print(dict1)\n"
   ]
  },
  {
   "cell_type": "code",
   "execution_count": 625,
   "id": "d2e505ae-2d58-4f84-a25e-b4968f32e1bf",
   "metadata": {},
   "outputs": [
    {
     "name": "stdout",
     "output_type": "stream",
     "text": [
      "{'a': 7, 'b': 6, 'd': 4, 'e': 5}\n"
     ]
    }
   ],
   "source": [
    "dict2 = {'a': 7, 'b': 6}\n",
    "dict2.update({'d': 4, 'e': 5})\n",
    "print(dict2)"
   ]
  },
  {
   "cell_type": "code",
   "execution_count": 627,
   "id": "b5003ad2-8830-4491-95cf-a6205a2b2502",
   "metadata": {},
   "outputs": [
    {
     "name": "stdout",
     "output_type": "stream",
     "text": [
      "{'c': 3}\n"
     ]
    }
   ],
   "source": [
    "dict3 = {'a': 1, 'b': 2, 'c': 3}\n",
    "\n",
    "del dict3['a']\n",
    "dict3.pop('b')\n",
    "print(dict3)"
   ]
  },
  {
   "cell_type": "markdown",
   "id": "ac7e1667-385b-47d9-bd01-f5382ddd49ff",
   "metadata": {},
   "source": [
    "*5. Почему вы можете использовать словарь вместо списка?*"
   ]
  },
  {
   "cell_type": "markdown",
   "id": "eac5b7b8-eac2-4375-ab39-821f7917cf1c",
   "metadata": {},
   "source": [
    "Словари обычно лучше подходят для работы с данными, которые имеют метки (например, записи с именованными полями), тогда как списки больше подходят для коллекций данных без меток (например, список всех файлов в каталоге). Поиск в словаре, как правило, выполняется быстрее, чем в списке, хотя это может зависеть от конкретной программы"
   ]
  },
  {
   "cell_type": "markdown",
   "id": "c6d004ef-876e-4921-b97f-99bc1bf4a501",
   "metadata": {},
   "source": [
    "**Глава 9**"
   ]
  },
  {
   "cell_type": "markdown",
   "id": "484a6e43-5995-453a-9046-f3fc2a1634c5",
   "metadata": {},
   "source": [
    "*1. Как определить размер кортежа? Почему этот инструмент находится там, где он есть?*"
   ]
  },
  {
   "cell_type": "markdown",
   "id": "56f36324-946a-4cc2-98aa-97d357dacb39",
   "metadata": {},
   "source": [
    "С помощью функции `len` можно узнать длину кортежа. `len` является встроенной функцией, а не методом типа, потому что она применяется к\n",
    "множеству разных типов объектов"
   ]
  },
  {
   "cell_type": "code",
   "execution_count": 634,
   "id": "78cc4ed2-f9c8-4569-8a05-abca3c383071",
   "metadata": {},
   "outputs": [
    {
     "name": "stdout",
     "output_type": "stream",
     "text": [
      "5\n"
     ]
    }
   ],
   "source": [
    "tuple = (1, 2, 3, 4, 5)\n",
    "print(len(tuple))"
   ]
  },
  {
   "cell_type": "markdown",
   "id": "6c4195eb-9650-4436-9438-c7e7b7e0a499",
   "metadata": {},
   "source": [
    "*2. Напишите выражение, которое изменяет первый элемент в кортеже. В процессе кортеж (4,5,6) должен стать (1,5,6).*"
   ]
  },
  {
   "cell_type": "markdown",
   "id": "31d5b741-5ff1-416f-a4ab-ac9ca5ade0c7",
   "metadata": {},
   "source": [
    "Кортежи являются неизменяемыми объектами, поэтому можно создать новый кортеж на основе существующего, заменив нужные элементы"
   ]
  },
  {
   "cell_type": "code",
   "execution_count": 638,
   "id": "dc4ba5a6-13d3-4c9c-b65f-6c1731a5b08b",
   "metadata": {},
   "outputs": [
    {
     "name": "stdout",
     "output_type": "stream",
     "text": [
      "(1, 5, 6)\n"
     ]
    }
   ],
   "source": [
    "tuple1 = (4, 5, 6)\n",
    "tuple2 = (1, *tuple1[1:])  \n",
    "print(tuple2) "
   ]
  },
  {
   "cell_type": "markdown",
   "id": "149c829b-da32-4981-9161-5908d18e3523",
   "metadata": {},
   "source": [
    "*6. Когда Python считает объект истинным?*"
   ]
  },
  {
   "cell_type": "markdown",
   "id": "dca7466e-8bb9-42db-8df6-7d26508ee566",
   "metadata": {},
   "source": [
    "Объект считается истинным, если он представляет собой либо ненулевое число, либо непустую коллекцию"
   ]
  },
  {
   "cell_type": "code",
   "execution_count": 641,
   "id": "36d7f1c2-7b41-4464-b472-6fc28c7e3494",
   "metadata": {},
   "outputs": [
    {
     "name": "stdout",
     "output_type": "stream",
     "text": [
      "0 is falsy\n",
      "Non-empty list is truthy\n"
     ]
    }
   ],
   "source": [
    "if not 0:\n",
    "    print(\"0 is falsy\") \n",
    "if [1, 2, 3]:\n",
    "    print(\"Non-empty list is truthy\")"
   ]
  }
 ],
 "metadata": {
  "kernelspec": {
   "display_name": "Python [conda env:base] *",
   "language": "python",
   "name": "conda-base-py"
  },
  "language_info": {
   "codemirror_mode": {
    "name": "ipython",
    "version": 3
   },
   "file_extension": ".py",
   "mimetype": "text/x-python",
   "name": "python",
   "nbconvert_exporter": "python",
   "pygments_lexer": "ipython3",
   "version": "3.12.7"
  }
 },
 "nbformat": 4,
 "nbformat_minor": 5
}
